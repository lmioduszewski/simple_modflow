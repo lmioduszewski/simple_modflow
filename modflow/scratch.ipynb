{
 "cells": [
  {
   "cell_type": "code",
   "source": [
    "import sys\n",
    "from pathlib import Path\n",
    "local_modules_path = str(Path('.').absolute().joinpath('mf6'))\n",
    "\n",
    "sys.path.append(local_modules_path)\n",
    "import numpy as np\n",
    "from tempfile import TemporaryDirectory\n",
    "from mf6.voronoiplus import TriangleGrid as Triangle\n",
    "from shapely import Polygon\n",
    "from mf6.voronoiplus import VoronoiGridPlus as Vor\n",
    "from pathlib import Path\n",
    "from mf6.simplemodel import SimpleModel\n",
    "from mf6.headsplus import HeadsPlus as hp\n",
    "import mf6.mfsimbase as mf\n",
    "import shapely as shp\n",
    "import pickle\n",
    "import pandas as pd\n",
    "from simple_modflow.modflow.utils.surfaces import InterpolatedSurface\n",
    "from simple_modflow.modflow.mf6.mfsimbase import SimulationBase\n",
    "model_path = Path(r\"C:\\Users\\lukem\\mf6\\LkPt_F5_flow_lk2\\LkPt_F5_flow_lk2.model\")\n",
    "with open(model_path,'rb') as file:\n",
    "    model: SimulationBase = pickle.load(file)\n",
    "\n"
   ],
   "metadata": {
    "collapsed": false,
    "ExecuteTime": {
     "end_time": "2024-09-16T20:14:56.973545Z",
     "start_time": "2024-09-16T20:14:41.354198Z"
    }
   },
   "id": "70dc4d53bfd175b1",
   "outputs": [
    {
     "name": "stderr",
     "output_type": "stream",
     "text": [
      "C:\\Users\\lukem\\AppData\\Local\\Programs\\Python\\Python312\\Lib\\site-packages\\reportlab\\lib\\rl_safe_eval.py:12: DeprecationWarning: ast.NameConstant is deprecated and will be removed in Python 3.14; use ast.Constant instead\n",
      "  haveNameConstant = hasattr(ast,'NameConstant')\n"
     ]
    }
   ],
   "execution_count": 1
  },
  {
   "metadata": {
    "ExecuteTime": {
     "end_time": "2024-09-03T06:20:16.347395Z",
     "start_time": "2024-09-03T06:20:07.655443Z"
    }
   },
   "cell_type": "code",
   "source": [
    "choro = model.choro\n",
    "choro.choro_type = 'hds'\n",
    "choro.layer = 0\n",
    "choro.kstpkper = (9,15)\n",
    "choro._zmin = 375\n",
    "choro._zmax = 395\n",
    "choro.plot_choropleth()"
   ],
   "id": "aae236bcad997d3b",
   "outputs": [],
   "execution_count": 2
  },
  {
   "metadata": {
    "ExecuteTime": {
     "end_time": "2024-09-03T06:20:18.164019Z",
     "start_time": "2024-09-03T06:20:16.348932Z"
    }
   },
   "cell_type": "code",
   "source": "model.hds.plot_heads(10777)",
   "id": "ecfe2e892d7a9b87",
   "outputs": [],
   "execution_count": 3
  },
  {
   "metadata": {
    "ExecuteTime": {
     "end_time": "2024-09-03T06:19:41.957308Z",
     "start_time": "2024-09-03T06:19:38.544076Z"
    }
   },
   "cell_type": "code",
   "source": [
    "from shapely.geometry import LineString\n",
    "import figs as f\n",
    "import geopandas as gpd\n",
    "rlr_slope = pd.read_csv(Path(r\"C:\\Users\\lukem\\QGIS\\TABLES\\TEHALEH\\rlr_infiltration_trench_profile_road_cut.csv\")).dropna()\n",
    "line:LineString = LineString(rlr_slope).simplify(1)\n",
    "s = pd.DataFrame(line.xy).transpose()\n",
    "f.Fig().add_scattergl(x=s[0], y=s[1]).show()\n",
    "#s.to_csv('rlr_slope_road_cut.csv')"
   ],
   "id": "d79b0e5d8b308c96",
   "outputs": [
    {
     "ename": "NameError",
     "evalue": "name 'pd' is not defined",
     "output_type": "error",
     "traceback": [
      "\u001B[1;31m---------------------------------------------------------------------------\u001B[0m",
      "\u001B[1;31mNameError\u001B[0m                                 Traceback (most recent call last)",
      "Cell \u001B[1;32mIn[1], line 4\u001B[0m\n\u001B[0;32m      2\u001B[0m \u001B[38;5;28;01mimport\u001B[39;00m \u001B[38;5;21;01mfigs\u001B[39;00m \u001B[38;5;28;01mas\u001B[39;00m \u001B[38;5;21;01mf\u001B[39;00m\n\u001B[0;32m      3\u001B[0m \u001B[38;5;28;01mimport\u001B[39;00m \u001B[38;5;21;01mgeopandas\u001B[39;00m \u001B[38;5;28;01mas\u001B[39;00m \u001B[38;5;21;01mgpd\u001B[39;00m\n\u001B[1;32m----> 4\u001B[0m rlr_slope \u001B[38;5;241m=\u001B[39m \u001B[43mpd\u001B[49m\u001B[38;5;241m.\u001B[39mread_csv(Path(\u001B[38;5;124mr\u001B[39m\u001B[38;5;124m\"\u001B[39m\u001B[38;5;124mC:\u001B[39m\u001B[38;5;124m\\\u001B[39m\u001B[38;5;124mUsers\u001B[39m\u001B[38;5;124m\\\u001B[39m\u001B[38;5;124mlukem\u001B[39m\u001B[38;5;124m\\\u001B[39m\u001B[38;5;124mQGIS\u001B[39m\u001B[38;5;124m\\\u001B[39m\u001B[38;5;124mTABLES\u001B[39m\u001B[38;5;124m\\\u001B[39m\u001B[38;5;124mTEHALEH\u001B[39m\u001B[38;5;124m\\\u001B[39m\u001B[38;5;124mrlr_infiltration_trench_profile_road_cut.csv\u001B[39m\u001B[38;5;124m\"\u001B[39m))\u001B[38;5;241m.\u001B[39mdropna()\n\u001B[0;32m      5\u001B[0m line:LineString \u001B[38;5;241m=\u001B[39m LineString(rlr_slope)\u001B[38;5;241m.\u001B[39msimplify(\u001B[38;5;241m1\u001B[39m)\n\u001B[0;32m      6\u001B[0m s \u001B[38;5;241m=\u001B[39m pd\u001B[38;5;241m.\u001B[39mDataFrame(line\u001B[38;5;241m.\u001B[39mxy)\u001B[38;5;241m.\u001B[39mtranspose()\n",
      "\u001B[1;31mNameError\u001B[0m: name 'pd' is not defined"
     ]
    }
   ],
   "execution_count": 1
  },
  {
   "metadata": {
    "ExecuteTime": {
     "end_time": "2024-08-26T22:38:27.089107Z",
     "start_time": "2024-08-26T22:38:13.970786Z"
    }
   },
   "cell_type": "code",
   "source": [
    "wls = Path(r\"C:\\Users\\lukem\\Downloads\\tehwls.xlsx\")\n",
    "wls = pd.read_excel(wls).set_index('Date Time')\n",
    "fig = f.Fig()\n",
    "for col in wls.columns:\n",
    "    fig.add_scattergl(x=wls.index, y=wls[col], name=col)\n",
    "fig.show()"
   ],
   "id": "a50e88b138ee6d46",
   "outputs": [],
   "execution_count": 40
  },
  {
   "cell_type": "code",
   "execution_count": 2,
   "outputs": [],
   "source": [
    "with open(vor_path, \"rb\") as vor_file_load:\n",
    "    vor = pickle.load(vor_file_load)\n",
    "hds = hp(hds_path=Path.home().joinpath('mf6','mf6_model' , 'mf6_model.hds'), vor=vor)"
   ],
   "metadata": {
    "collapsed": false,
    "ExecuteTime": {
     "end_time": "2023-12-02T09:21:39.897487100Z",
     "start_time": "2023-12-02T09:21:38.661081600Z"
    }
   },
   "id": "a45534448562a402"
  },
  {
   "cell_type": "code",
   "execution_count": 3,
   "outputs": [],
   "source": [
    "vor.plot_choropleth().show()\n",
    "hds.plot_choropleth((19,0), plot_mounding=True).show()"
   ],
   "metadata": {
    "collapsed": false,
    "ExecuteTime": {
     "end_time": "2023-12-02T09:22:09.793368500Z",
     "start_time": "2023-12-02T09:22:04.339259Z"
    }
   },
   "id": "cb3f6bfb15b1b760"
  },
  {
   "cell_type": "code",
   "execution_count": 3,
   "outputs": [],
   "source": [
    "vor.plot_choropleth().show()"
   ],
   "metadata": {
    "collapsed": false,
    "ExecuteTime": {
     "end_time": "2023-12-01T10:02:34.676417300Z",
     "start_time": "2023-12-01T10:02:31.548425800Z"
    }
   },
   "id": "db50939980f3707a"
  },
  {
   "cell_type": "code",
   "execution_count": 2,
   "outputs": [
    {
     "name": "stdout",
     "output_type": "stream",
     "text": [
      "VoronoiGrid initialized.\n",
      "Getting SciPy voronoi grid\n",
      "Got SciPy voronoi grid\n",
      "getting lats and lons\n",
      "got lats and lons\n",
      "getting rasters\n",
      "getting elevations for raster\n",
      "got raster from strike and dip\n",
      "getting elevations for raster\n",
      "got raster from strike and dip\n",
      "got rasters\n",
      "VoronoiGrid initialized.\n",
      "Getting SciPy voronoi grid\n",
      "Got SciPy voronoi grid\n",
      "getting lats and lons\n",
      "got lats and lons\n",
      "ok\n",
      "well done\n"
     ]
    }
   ],
   "source": [
    "\"\"\"Example simple model\"\"\"\n",
    "tri = Triangle(\n",
    "    model_ws=Path.cwd(),\n",
    "    angle=30\n",
    ")\n",
    "model_hull = tri.add_circle(radius=2000, center_coords=(50, 200), )\n",
    "#facility = tri.add_circle(radius=10, center_coords=(50, 150), return_only=True)\n",
    "facility = tri.add_rectangle(return_only=True)\n",
    "\n",
    "outer_buffer = shp.Polygon(facility).buffer(0.5)\n",
    "inner_buffer = shp.Polygon(facility).buffer(-0.5)\n",
    "tri.add_polygon(outer_buffer)\n",
    "tri.add_polygon(inner_buffer)\n",
    "\n",
    "tri.add_regions(((10, 10), (300, 200)),\n",
    "                maximum_areas=(4, 1000))\n",
    "tri.build()\n",
    "# get bottom elevs\n",
    "strike = 30  # Strike given in degrees from north\n",
    "dip = 5  # Dip given in degrees from horizontal\n",
    "known_point = (50, 200, 0)  # Known point (x, y, elevation)\n",
    "pixel_size = 10  # Pixel size\n",
    "bottom_raster_path = Path.cwd().joinpath('bottom_raster.tif')\n",
    "top_raster_path = Path.cwd().joinpath('top_raster.tif')\n",
    "vor = Vor(tri)\n",
    "print('getting rasters')\n",
    "bottom_elevs = vor.get_raster_from_strike_dip(strike, dip, known_point, pixel_size, bottom_raster_path)\n",
    "top_elevs = vor.get_raster_from_strike_dip(0, 0, (0,0,200), 10, top_raster_path)\n",
    "print('got rasters')\n",
    "vor = Vor(tri, rasters=[bottom_raster_path, top_raster_path])\n",
    "nper = 31\n",
    "facility_cells_idxs = vor.get_overlapping_grid_cells(shp.Polygon(facility)).to_list()"
   ],
   "metadata": {
    "collapsed": false,
    "ExecuteTime": {
     "end_time": "2023-12-04T06:35:41.168487900Z",
     "start_time": "2023-12-04T06:35:28.384068300Z"
    }
   },
   "id": "d2c061eb1cbcc6d0"
  },
  {
   "cell_type": "code",
   "execution_count": 3,
   "outputs": [
    {
     "name": "stdout",
     "output_type": "stream",
     "text": [
      "getting nja for disu\n",
      "getting iac for disu\n",
      "getting ja, cl12, and hwva for disu\n",
      "getting cell areas\n",
      "WARNING: Unable to resolve dimension of ('gwf6', 'disu', 'cell2d', 'cell2d', 'icvert') based on shape \"ncvert\".\n"
     ]
    }
   ],
   "source": [
    "\n",
    "rch_trans = [np.random.random() + 4 for per in range(nper)]\n",
    "rch_dict = {}\n",
    "for per in range(nper):\n",
    "    cell_list = []\n",
    "    for cell in range(vor.ncpl):\n",
    "        if cell in facility_cells_idxs:\n",
    "            cell_list.append([cell, rch_trans[per]])\n",
    "        else:\n",
    "            cell_list.append([cell, 0.0001])\n",
    "\n",
    "    rch_dict[per] = cell_list\n",
    "\"\"\"ADD WAY TO CALC CONDUCTANCE FROM K, L, and A\"\"\"\n",
    "model = SimpleModel(\n",
    "    vor,\n",
    "    boundary_conductance=1000,\n",
    "    nper=nper,\n",
    "    rch_dict=rch_dict\n",
    ")\n",
    "\n",
    "\"\"\"save grid to file\"\"\"\n",
    "vor_path = model.model_output_folder_path.joinpath('vor.vor')\n",
    "with open(vor_path, \"wb\") as vor_file:\n",
    "    pickle.dump(vor, vor_file, protocol=pickle.HIGHEST_PROTOCOL)"
   ],
   "metadata": {
    "collapsed": false,
    "ExecuteTime": {
     "end_time": "2023-12-04T06:36:49.393078Z",
     "start_time": "2023-12-04T06:35:53.486488800Z"
    }
   },
   "id": "3208629249bae5a"
  },
  {
   "cell_type": "code",
   "execution_count": 25,
   "outputs": [],
   "source": [
    "mapbox_center = {\"lat\": vor.grid_centroid.y, \"lon\": vor.grid_centroid.x}\n",
    "vor.plot_choropleth().update_layout(\n",
    "    margin={\"r\": 0, \"t\": 20, \"l\": 0, \"b\": 0},\n",
    "    mapbox_style=\"carto-positron\",\n",
    "    mapbox_zoom=16,\n",
    "    mapbox_center=mapbox_center).show()"
   ],
   "metadata": {
    "collapsed": false,
    "ExecuteTime": {
     "end_time": "2023-12-01T09:52:30.488821900Z",
     "start_time": "2023-12-01T09:52:27.503997800Z"
    }
   },
   "id": "2b3c5bc9d9c38ff5"
  },
  {
   "cell_type": "code",
   "execution_count": 20,
   "outputs": [],
   "source": [
    "vor.plot_choropleth().show()"
   ],
   "metadata": {
    "collapsed": false,
    "ExecuteTime": {
     "end_time": "2023-12-01T09:50:22.433783700Z",
     "start_time": "2023-12-01T09:50:18.742700300Z"
    }
   },
   "id": "7457f7f61a2773dd"
  },
  {
   "cell_type": "code",
   "execution_count": 18,
   "outputs": [],
   "source": [
    "vor.show_selected_cells(facility_cells_idxs).show(renderer='browser')"
   ],
   "metadata": {
    "collapsed": false,
    "ExecuteTime": {
     "end_time": "2023-12-01T09:48:52.708596200Z",
     "start_time": "2023-12-01T09:48:48.029741200Z"
    }
   },
   "id": "ac5560d676fbb3bf"
  },
  {
   "cell_type": "code",
   "execution_count": 15,
   "outputs": [
    {
     "name": "stdout",
     "output_type": "stream",
     "text": [
      "writing simulation...\n",
      "  writing simulation name file...\n",
      "  writing simulation tdis package...\n",
      "  writing solution package ims...\n",
      "  writing model mf6_model...\n",
      "    writing model name file...\n",
      "    writing package disu...\n",
      "    writing package ic...\n",
      "    writing package npf...\n",
      "    writing package oc...\n",
      "    writing package drn...\n",
      "INFORMATION: maxbound in ('gwf6', 'drn', 'dimensions') changed to 322 based on size of stress_period_data\n",
      "    writing package rch...\n",
      "FloPy is using the following executable to run the model: ..\\..\\AppData\\Local\\flopy\\bin\\mf6.exe\n",
      "                                   MODFLOW 6\n",
      "                U.S. GEOLOGICAL SURVEY MODULAR HYDROLOGIC MODEL\n",
      "                            VERSION 6.4.2 06/28/2023\n",
      "\n",
      "   MODFLOW 6 compiled Jul 05 2023 20:31:54 with Intel(R) Fortran Intel(R) 64\n",
      "   Compiler Classic for applications running on Intel(R) 64, Version 2021.7.0\n",
      "                             Build 20220726_000000\n",
      "\n",
      "This software has been approved for release by the U.S. Geological \n",
      "Survey (USGS). Although the software has been subjected to rigorous \n",
      "review, the USGS reserves the right to update the software as needed \n",
      "pursuant to further analysis and review. No warranty, expressed or \n",
      "implied, is made by the USGS or the U.S. Government as to the \n",
      "functionality of the software and related material nor shall the \n",
      "fact of release constitute any such warranty. Furthermore, the \n",
      "software is released on condition that neither the USGS nor the U.S. \n",
      "Government shall be held liable for any damages resulting from its \n",
      "authorized or unauthorized use. Also refer to the USGS Water \n",
      "Resources Software User Rights Notice for complete use, copyright, \n",
      "and distribution information.\n",
      "\n",
      " \n",
      " Run start date and time (yyyy/mm/dd hh:mm:ss): 2023/12/01  1:47:25\n",
      " \n",
      " Writing simulation list file: mfsim.lst\n",
      " Using Simulation name file: mfsim.nam\n",
      " \n",
      "    Solving:  Stress period:     1    Time step:     1\n",
      "    Solving:  Stress period:     1    Time step:     2\n",
      "    Solving:  Stress period:     1    Time step:     3\n",
      "    Solving:  Stress period:     1    Time step:     4\n",
      "    Solving:  Stress period:     1    Time step:     5\n",
      "    Solving:  Stress period:     1    Time step:     6\n",
      "    Solving:  Stress period:     1    Time step:     7\n",
      "    Solving:  Stress period:     1    Time step:     8\n",
      "    Solving:  Stress period:     1    Time step:     9\n",
      "    Solving:  Stress period:     1    Time step:    10\n",
      "    Solving:  Stress period:     1    Time step:    11\n",
      "    Solving:  Stress period:     1    Time step:    12\n",
      "    Solving:  Stress period:     1    Time step:    13\n",
      "    Solving:  Stress period:     1    Time step:    14\n",
      "    Solving:  Stress period:     1    Time step:    15\n",
      "    Solving:  Stress period:     1    Time step:    16\n",
      "    Solving:  Stress period:     1    Time step:    17\n",
      "    Solving:  Stress period:     1    Time step:    18\n",
      "    Solving:  Stress period:     1    Time step:    19\n",
      "    Solving:  Stress period:     1    Time step:    20\n",
      "    Solving:  Stress period:     2    Time step:     1\n",
      "    Solving:  Stress period:     2    Time step:     2\n",
      "    Solving:  Stress period:     2    Time step:     3\n",
      "    Solving:  Stress period:     2    Time step:     4\n",
      "    Solving:  Stress period:     2    Time step:     5\n",
      "    Solving:  Stress period:     2    Time step:     6\n",
      "    Solving:  Stress period:     2    Time step:     7\n",
      "    Solving:  Stress period:     2    Time step:     8\n",
      "    Solving:  Stress period:     2    Time step:     9\n",
      "    Solving:  Stress period:     2    Time step:    10\n",
      "    Solving:  Stress period:     2    Time step:    11\n",
      "    Solving:  Stress period:     2    Time step:    12\n",
      "    Solving:  Stress period:     2    Time step:    13\n",
      "    Solving:  Stress period:     2    Time step:    14\n",
      "    Solving:  Stress period:     2    Time step:    15\n",
      "    Solving:  Stress period:     2    Time step:    16\n",
      "    Solving:  Stress period:     2    Time step:    17\n",
      "    Solving:  Stress period:     2    Time step:    18\n",
      "    Solving:  Stress period:     2    Time step:    19\n",
      "    Solving:  Stress period:     2    Time step:    20\n",
      "    Solving:  Stress period:     3    Time step:     1\n",
      "    Solving:  Stress period:     3    Time step:     2\n",
      "    Solving:  Stress period:     3    Time step:     3\n",
      "    Solving:  Stress period:     3    Time step:     4\n",
      "    Solving:  Stress period:     3    Time step:     5\n",
      "    Solving:  Stress period:     3    Time step:     6\n",
      "    Solving:  Stress period:     3    Time step:     7\n",
      "    Solving:  Stress period:     3    Time step:     8\n",
      "    Solving:  Stress period:     3    Time step:     9\n",
      "    Solving:  Stress period:     3    Time step:    10\n",
      "    Solving:  Stress period:     3    Time step:    11\n",
      "    Solving:  Stress period:     3    Time step:    12\n",
      "    Solving:  Stress period:     3    Time step:    13\n",
      "    Solving:  Stress period:     3    Time step:    14\n",
      "    Solving:  Stress period:     3    Time step:    15\n",
      "    Solving:  Stress period:     3    Time step:    16\n",
      "    Solving:  Stress period:     3    Time step:    17\n",
      "    Solving:  Stress period:     3    Time step:    18\n",
      "    Solving:  Stress period:     3    Time step:    19\n",
      "    Solving:  Stress period:     3    Time step:    20\n",
      "    Solving:  Stress period:     4    Time step:     1\n",
      "    Solving:  Stress period:     4    Time step:     2\n",
      "    Solving:  Stress period:     4    Time step:     3\n",
      "    Solving:  Stress period:     4    Time step:     4\n",
      "    Solving:  Stress period:     4    Time step:     5\n",
      "    Solving:  Stress period:     4    Time step:     6\n",
      "    Solving:  Stress period:     4    Time step:     7\n",
      "    Solving:  Stress period:     4    Time step:     8\n",
      "    Solving:  Stress period:     4    Time step:     9\n",
      "    Solving:  Stress period:     4    Time step:    10\n",
      "    Solving:  Stress period:     4    Time step:    11\n",
      "    Solving:  Stress period:     4    Time step:    12\n",
      "    Solving:  Stress period:     4    Time step:    13\n",
      "    Solving:  Stress period:     4    Time step:    14\n",
      "    Solving:  Stress period:     4    Time step:    15\n",
      "    Solving:  Stress period:     4    Time step:    16\n",
      "    Solving:  Stress period:     4    Time step:    17\n",
      "    Solving:  Stress period:     4    Time step:    18\n",
      "    Solving:  Stress period:     4    Time step:    19\n",
      "    Solving:  Stress period:     4    Time step:    20\n",
      "    Solving:  Stress period:     5    Time step:     1\n",
      "    Solving:  Stress period:     5    Time step:     2\n",
      "    Solving:  Stress period:     5    Time step:     3\n",
      "    Solving:  Stress period:     5    Time step:     4\n",
      "    Solving:  Stress period:     5    Time step:     5\n",
      "    Solving:  Stress period:     5    Time step:     6\n",
      "    Solving:  Stress period:     5    Time step:     7\n",
      "    Solving:  Stress period:     5    Time step:     8\n",
      "    Solving:  Stress period:     5    Time step:     9\n",
      "    Solving:  Stress period:     5    Time step:    10\n",
      "    Solving:  Stress period:     5    Time step:    11\n",
      "    Solving:  Stress period:     5    Time step:    12\n",
      "    Solving:  Stress period:     5    Time step:    13\n",
      "    Solving:  Stress period:     5    Time step:    14\n",
      "    Solving:  Stress period:     5    Time step:    15\n",
      "    Solving:  Stress period:     5    Time step:    16\n",
      "    Solving:  Stress period:     5    Time step:    17\n",
      "    Solving:  Stress period:     5    Time step:    18\n",
      "    Solving:  Stress period:     5    Time step:    19\n",
      "    Solving:  Stress period:     5    Time step:    20\n",
      "    Solving:  Stress period:     6    Time step:     1\n",
      "    Solving:  Stress period:     6    Time step:     2\n",
      "    Solving:  Stress period:     6    Time step:     3\n",
      "    Solving:  Stress period:     6    Time step:     4\n",
      "    Solving:  Stress period:     6    Time step:     5\n",
      "    Solving:  Stress period:     6    Time step:     6\n",
      "    Solving:  Stress period:     6    Time step:     7\n",
      "    Solving:  Stress period:     6    Time step:     8\n",
      "    Solving:  Stress period:     6    Time step:     9\n",
      "    Solving:  Stress period:     6    Time step:    10\n",
      "    Solving:  Stress period:     6    Time step:    11\n",
      "    Solving:  Stress period:     6    Time step:    12\n",
      "    Solving:  Stress period:     6    Time step:    13\n",
      "    Solving:  Stress period:     6    Time step:    14\n",
      "    Solving:  Stress period:     6    Time step:    15\n",
      "    Solving:  Stress period:     6    Time step:    16\n",
      "    Solving:  Stress period:     6    Time step:    17\n",
      "    Solving:  Stress period:     6    Time step:    18\n",
      "    Solving:  Stress period:     6    Time step:    19\n",
      "    Solving:  Stress period:     6    Time step:    20\n",
      "    Solving:  Stress period:     7    Time step:     1\n",
      "    Solving:  Stress period:     7    Time step:     2\n",
      "    Solving:  Stress period:     7    Time step:     3\n",
      "    Solving:  Stress period:     7    Time step:     4\n",
      "    Solving:  Stress period:     7    Time step:     5\n",
      "    Solving:  Stress period:     7    Time step:     6\n",
      "    Solving:  Stress period:     7    Time step:     7\n",
      "    Solving:  Stress period:     7    Time step:     8\n",
      "    Solving:  Stress period:     7    Time step:     9\n",
      "    Solving:  Stress period:     7    Time step:    10\n",
      "    Solving:  Stress period:     7    Time step:    11\n",
      "    Solving:  Stress period:     7    Time step:    12\n",
      "    Solving:  Stress period:     7    Time step:    13\n",
      "    Solving:  Stress period:     7    Time step:    14\n",
      "    Solving:  Stress period:     7    Time step:    15\n",
      "    Solving:  Stress period:     7    Time step:    16\n",
      "    Solving:  Stress period:     7    Time step:    17\n",
      "    Solving:  Stress period:     7    Time step:    18\n",
      "    Solving:  Stress period:     7    Time step:    19\n",
      "    Solving:  Stress period:     7    Time step:    20\n",
      "    Solving:  Stress period:     8    Time step:     1\n",
      "    Solving:  Stress period:     8    Time step:     2\n",
      "    Solving:  Stress period:     8    Time step:     3\n",
      "    Solving:  Stress period:     8    Time step:     4\n",
      "    Solving:  Stress period:     8    Time step:     5\n",
      "    Solving:  Stress period:     8    Time step:     6\n",
      "    Solving:  Stress period:     8    Time step:     7\n",
      "    Solving:  Stress period:     8    Time step:     8\n",
      "    Solving:  Stress period:     8    Time step:     9\n",
      "    Solving:  Stress period:     8    Time step:    10\n",
      "    Solving:  Stress period:     8    Time step:    11\n",
      "    Solving:  Stress period:     8    Time step:    12\n",
      "    Solving:  Stress period:     8    Time step:    13\n",
      "    Solving:  Stress period:     8    Time step:    14\n",
      "    Solving:  Stress period:     8    Time step:    15\n",
      "    Solving:  Stress period:     8    Time step:    16\n",
      "    Solving:  Stress period:     8    Time step:    17\n",
      "    Solving:  Stress period:     8    Time step:    18\n",
      "    Solving:  Stress period:     8    Time step:    19\n",
      "    Solving:  Stress period:     8    Time step:    20\n",
      "    Solving:  Stress period:     9    Time step:     1\n",
      "    Solving:  Stress period:     9    Time step:     2\n",
      "    Solving:  Stress period:     9    Time step:     3\n",
      "    Solving:  Stress period:     9    Time step:     4\n",
      "    Solving:  Stress period:     9    Time step:     5\n",
      "    Solving:  Stress period:     9    Time step:     6\n",
      "    Solving:  Stress period:     9    Time step:     7\n",
      "    Solving:  Stress period:     9    Time step:     8\n",
      "    Solving:  Stress period:     9    Time step:     9\n",
      "    Solving:  Stress period:     9    Time step:    10\n",
      "    Solving:  Stress period:     9    Time step:    11\n",
      "    Solving:  Stress period:     9    Time step:    12\n",
      "    Solving:  Stress period:     9    Time step:    13\n",
      "    Solving:  Stress period:     9    Time step:    14\n",
      "    Solving:  Stress period:     9    Time step:    15\n",
      "    Solving:  Stress period:     9    Time step:    16\n",
      "    Solving:  Stress period:     9    Time step:    17\n",
      "    Solving:  Stress period:     9    Time step:    18\n",
      "    Solving:  Stress period:     9    Time step:    19\n",
      "    Solving:  Stress period:     9    Time step:    20\n",
      "    Solving:  Stress period:    10    Time step:     1\n",
      "    Solving:  Stress period:    10    Time step:     2\n",
      "    Solving:  Stress period:    10    Time step:     3\n",
      "    Solving:  Stress period:    10    Time step:     4\n",
      "    Solving:  Stress period:    10    Time step:     5\n",
      "    Solving:  Stress period:    10    Time step:     6\n",
      "    Solving:  Stress period:    10    Time step:     7\n",
      "    Solving:  Stress period:    10    Time step:     8\n",
      "    Solving:  Stress period:    10    Time step:     9\n",
      "    Solving:  Stress period:    10    Time step:    10\n",
      "    Solving:  Stress period:    10    Time step:    11\n",
      "    Solving:  Stress period:    10    Time step:    12\n",
      "    Solving:  Stress period:    10    Time step:    13\n",
      "    Solving:  Stress period:    10    Time step:    14\n",
      "    Solving:  Stress period:    10    Time step:    15\n",
      "    Solving:  Stress period:    10    Time step:    16\n",
      "    Solving:  Stress period:    10    Time step:    17\n",
      "    Solving:  Stress period:    10    Time step:    18\n",
      "    Solving:  Stress period:    10    Time step:    19\n",
      "    Solving:  Stress period:    10    Time step:    20\n",
      "    Solving:  Stress period:    11    Time step:     1\n",
      "    Solving:  Stress period:    11    Time step:     2\n",
      "    Solving:  Stress period:    11    Time step:     3\n",
      "    Solving:  Stress period:    11    Time step:     4\n",
      "    Solving:  Stress period:    11    Time step:     5\n",
      "    Solving:  Stress period:    11    Time step:     6\n",
      "    Solving:  Stress period:    11    Time step:     7\n",
      "    Solving:  Stress period:    11    Time step:     8\n",
      "    Solving:  Stress period:    11    Time step:     9\n",
      "    Solving:  Stress period:    11    Time step:    10\n",
      "    Solving:  Stress period:    11    Time step:    11\n",
      "    Solving:  Stress period:    11    Time step:    12\n",
      "    Solving:  Stress period:    11    Time step:    13\n",
      "    Solving:  Stress period:    11    Time step:    14\n",
      "    Solving:  Stress period:    11    Time step:    15\n",
      "    Solving:  Stress period:    11    Time step:    16\n",
      "    Solving:  Stress period:    11    Time step:    17\n",
      "    Solving:  Stress period:    11    Time step:    18\n",
      "    Solving:  Stress period:    11    Time step:    19\n",
      "    Solving:  Stress period:    11    Time step:    20\n",
      "    Solving:  Stress period:    12    Time step:     1\n",
      "    Solving:  Stress period:    12    Time step:     2\n",
      "    Solving:  Stress period:    12    Time step:     3\n",
      "    Solving:  Stress period:    12    Time step:     4\n",
      "    Solving:  Stress period:    12    Time step:     5\n",
      "    Solving:  Stress period:    12    Time step:     6\n",
      "    Solving:  Stress period:    12    Time step:     7\n",
      "    Solving:  Stress period:    12    Time step:     8\n",
      "    Solving:  Stress period:    12    Time step:     9\n",
      "    Solving:  Stress period:    12    Time step:    10\n",
      "    Solving:  Stress period:    12    Time step:    11\n",
      "    Solving:  Stress period:    12    Time step:    12\n",
      "    Solving:  Stress period:    12    Time step:    13\n",
      "    Solving:  Stress period:    12    Time step:    14\n",
      "    Solving:  Stress period:    12    Time step:    15\n",
      "    Solving:  Stress period:    12    Time step:    16\n",
      "    Solving:  Stress period:    12    Time step:    17\n",
      "    Solving:  Stress period:    12    Time step:    18\n",
      "    Solving:  Stress period:    12    Time step:    19\n",
      "    Solving:  Stress period:    12    Time step:    20\n",
      "    Solving:  Stress period:    13    Time step:     1\n",
      "    Solving:  Stress period:    13    Time step:     2\n",
      "    Solving:  Stress period:    13    Time step:     3\n",
      "    Solving:  Stress period:    13    Time step:     4\n",
      "    Solving:  Stress period:    13    Time step:     5\n",
      "    Solving:  Stress period:    13    Time step:     6\n",
      "    Solving:  Stress period:    13    Time step:     7\n",
      "    Solving:  Stress period:    13    Time step:     8\n",
      "    Solving:  Stress period:    13    Time step:     9\n",
      "    Solving:  Stress period:    13    Time step:    10\n",
      "    Solving:  Stress period:    13    Time step:    11\n",
      "    Solving:  Stress period:    13    Time step:    12\n",
      "    Solving:  Stress period:    13    Time step:    13\n",
      "    Solving:  Stress period:    13    Time step:    14\n",
      "    Solving:  Stress period:    13    Time step:    15\n",
      "    Solving:  Stress period:    13    Time step:    16\n",
      "    Solving:  Stress period:    13    Time step:    17\n",
      "    Solving:  Stress period:    13    Time step:    18\n",
      "    Solving:  Stress period:    13    Time step:    19\n",
      "    Solving:  Stress period:    13    Time step:    20\n",
      "    Solving:  Stress period:    14    Time step:     1\n",
      "    Solving:  Stress period:    14    Time step:     2\n",
      "    Solving:  Stress period:    14    Time step:     3\n",
      "    Solving:  Stress period:    14    Time step:     4\n",
      "    Solving:  Stress period:    14    Time step:     5\n",
      "    Solving:  Stress period:    14    Time step:     6\n",
      "    Solving:  Stress period:    14    Time step:     7\n",
      "    Solving:  Stress period:    14    Time step:     8\n",
      "    Solving:  Stress period:    14    Time step:     9\n",
      "    Solving:  Stress period:    14    Time step:    10\n",
      "    Solving:  Stress period:    14    Time step:    11\n",
      "    Solving:  Stress period:    14    Time step:    12\n",
      "    Solving:  Stress period:    14    Time step:    13\n",
      "    Solving:  Stress period:    14    Time step:    14\n",
      "    Solving:  Stress period:    14    Time step:    15\n",
      "    Solving:  Stress period:    14    Time step:    16\n",
      "    Solving:  Stress period:    14    Time step:    17\n",
      "    Solving:  Stress period:    14    Time step:    18\n",
      "    Solving:  Stress period:    14    Time step:    19\n",
      "    Solving:  Stress period:    14    Time step:    20\n",
      "    Solving:  Stress period:    15    Time step:     1\n",
      "    Solving:  Stress period:    15    Time step:     2\n",
      "    Solving:  Stress period:    15    Time step:     3\n",
      "    Solving:  Stress period:    15    Time step:     4\n",
      "    Solving:  Stress period:    15    Time step:     5\n",
      "    Solving:  Stress period:    15    Time step:     6\n",
      "    Solving:  Stress period:    15    Time step:     7\n",
      "    Solving:  Stress period:    15    Time step:     8\n",
      "    Solving:  Stress period:    15    Time step:     9\n",
      "    Solving:  Stress period:    15    Time step:    10\n",
      "    Solving:  Stress period:    15    Time step:    11\n",
      "    Solving:  Stress period:    15    Time step:    12\n",
      "    Solving:  Stress period:    15    Time step:    13\n",
      "    Solving:  Stress period:    15    Time step:    14\n",
      "    Solving:  Stress period:    15    Time step:    15\n",
      "    Solving:  Stress period:    15    Time step:    16\n",
      "    Solving:  Stress period:    15    Time step:    17\n",
      "    Solving:  Stress period:    15    Time step:    18\n",
      "    Solving:  Stress period:    15    Time step:    19\n",
      "    Solving:  Stress period:    15    Time step:    20\n",
      "    Solving:  Stress period:    16    Time step:     1\n",
      "    Solving:  Stress period:    16    Time step:     2\n",
      "    Solving:  Stress period:    16    Time step:     3\n",
      "    Solving:  Stress period:    16    Time step:     4\n",
      "    Solving:  Stress period:    16    Time step:     5\n",
      "    Solving:  Stress period:    16    Time step:     6\n",
      "    Solving:  Stress period:    16    Time step:     7\n",
      "    Solving:  Stress period:    16    Time step:     8\n",
      "    Solving:  Stress period:    16    Time step:     9\n",
      "    Solving:  Stress period:    16    Time step:    10\n",
      "    Solving:  Stress period:    16    Time step:    11\n",
      "    Solving:  Stress period:    16    Time step:    12\n",
      "    Solving:  Stress period:    16    Time step:    13\n",
      "    Solving:  Stress period:    16    Time step:    14\n",
      "    Solving:  Stress period:    16    Time step:    15\n",
      "    Solving:  Stress period:    16    Time step:    16\n",
      "    Solving:  Stress period:    16    Time step:    17\n",
      "    Solving:  Stress period:    16    Time step:    18\n",
      "    Solving:  Stress period:    16    Time step:    19\n",
      "    Solving:  Stress period:    16    Time step:    20\n",
      "    Solving:  Stress period:    17    Time step:     1\n",
      "    Solving:  Stress period:    17    Time step:     2\n",
      "    Solving:  Stress period:    17    Time step:     3\n",
      "    Solving:  Stress period:    17    Time step:     4\n",
      "    Solving:  Stress period:    17    Time step:     5\n",
      "    Solving:  Stress period:    17    Time step:     6\n",
      "    Solving:  Stress period:    17    Time step:     7\n",
      "    Solving:  Stress period:    17    Time step:     8\n",
      "    Solving:  Stress period:    17    Time step:     9\n",
      "    Solving:  Stress period:    17    Time step:    10\n",
      "    Solving:  Stress period:    17    Time step:    11\n",
      "    Solving:  Stress period:    17    Time step:    12\n",
      "    Solving:  Stress period:    17    Time step:    13\n",
      "    Solving:  Stress period:    17    Time step:    14\n",
      "    Solving:  Stress period:    17    Time step:    15\n",
      "    Solving:  Stress period:    17    Time step:    16\n",
      "    Solving:  Stress period:    17    Time step:    17\n",
      "    Solving:  Stress period:    17    Time step:    18\n",
      "    Solving:  Stress period:    17    Time step:    19\n",
      "    Solving:  Stress period:    17    Time step:    20\n",
      "    Solving:  Stress period:    18    Time step:     1\n",
      "    Solving:  Stress period:    18    Time step:     2\n",
      "    Solving:  Stress period:    18    Time step:     3\n",
      "    Solving:  Stress period:    18    Time step:     4\n",
      "    Solving:  Stress period:    18    Time step:     5\n",
      "    Solving:  Stress period:    18    Time step:     6\n",
      "    Solving:  Stress period:    18    Time step:     7\n",
      "    Solving:  Stress period:    18    Time step:     8\n",
      "    Solving:  Stress period:    18    Time step:     9\n",
      "    Solving:  Stress period:    18    Time step:    10\n",
      "    Solving:  Stress period:    18    Time step:    11\n",
      "    Solving:  Stress period:    18    Time step:    12\n",
      "    Solving:  Stress period:    18    Time step:    13\n",
      "    Solving:  Stress period:    18    Time step:    14\n",
      "    Solving:  Stress period:    18    Time step:    15\n",
      "    Solving:  Stress period:    18    Time step:    16\n",
      "    Solving:  Stress period:    18    Time step:    17\n",
      "    Solving:  Stress period:    18    Time step:    18\n",
      "    Solving:  Stress period:    18    Time step:    19\n",
      "    Solving:  Stress period:    18    Time step:    20\n",
      "    Solving:  Stress period:    19    Time step:     1\n",
      "    Solving:  Stress period:    19    Time step:     2\n",
      "    Solving:  Stress period:    19    Time step:     3\n",
      "    Solving:  Stress period:    19    Time step:     4\n",
      "    Solving:  Stress period:    19    Time step:     5\n",
      "    Solving:  Stress period:    19    Time step:     6\n",
      "    Solving:  Stress period:    19    Time step:     7\n",
      "    Solving:  Stress period:    19    Time step:     8\n",
      "    Solving:  Stress period:    19    Time step:     9\n",
      "    Solving:  Stress period:    19    Time step:    10\n",
      "    Solving:  Stress period:    19    Time step:    11\n",
      "    Solving:  Stress period:    19    Time step:    12\n",
      "    Solving:  Stress period:    19    Time step:    13\n",
      "    Solving:  Stress period:    19    Time step:    14\n",
      "    Solving:  Stress period:    19    Time step:    15\n",
      "    Solving:  Stress period:    19    Time step:    16\n",
      "    Solving:  Stress period:    19    Time step:    17\n",
      "    Solving:  Stress period:    19    Time step:    18\n",
      "    Solving:  Stress period:    19    Time step:    19\n",
      "    Solving:  Stress period:    19    Time step:    20\n",
      "    Solving:  Stress period:    20    Time step:     1\n",
      "    Solving:  Stress period:    20    Time step:     2\n",
      "    Solving:  Stress period:    20    Time step:     3\n",
      "    Solving:  Stress period:    20    Time step:     4\n",
      "    Solving:  Stress period:    20    Time step:     5\n",
      "    Solving:  Stress period:    20    Time step:     6\n",
      "    Solving:  Stress period:    20    Time step:     7\n",
      "    Solving:  Stress period:    20    Time step:     8\n",
      "    Solving:  Stress period:    20    Time step:     9\n",
      "    Solving:  Stress period:    20    Time step:    10\n",
      "    Solving:  Stress period:    20    Time step:    11\n",
      "    Solving:  Stress period:    20    Time step:    12\n",
      "    Solving:  Stress period:    20    Time step:    13\n",
      "    Solving:  Stress period:    20    Time step:    14\n",
      "    Solving:  Stress period:    20    Time step:    15\n",
      "    Solving:  Stress period:    20    Time step:    16\n",
      "    Solving:  Stress period:    20    Time step:    17\n",
      "    Solving:  Stress period:    20    Time step:    18\n",
      "    Solving:  Stress period:    20    Time step:    19\n",
      "    Solving:  Stress period:    20    Time step:    20\n",
      "    Solving:  Stress period:    21    Time step:     1\n",
      "    Solving:  Stress period:    21    Time step:     2\n",
      "    Solving:  Stress period:    21    Time step:     3\n",
      "    Solving:  Stress period:    21    Time step:     4\n",
      "    Solving:  Stress period:    21    Time step:     5\n",
      "    Solving:  Stress period:    21    Time step:     6\n",
      "    Solving:  Stress period:    21    Time step:     7\n",
      "    Solving:  Stress period:    21    Time step:     8\n",
      "    Solving:  Stress period:    21    Time step:     9\n",
      "    Solving:  Stress period:    21    Time step:    10\n",
      "    Solving:  Stress period:    21    Time step:    11\n",
      "    Solving:  Stress period:    21    Time step:    12\n",
      "    Solving:  Stress period:    21    Time step:    13\n",
      "    Solving:  Stress period:    21    Time step:    14\n",
      "    Solving:  Stress period:    21    Time step:    15\n",
      "    Solving:  Stress period:    21    Time step:    16\n",
      "    Solving:  Stress period:    21    Time step:    17\n",
      "    Solving:  Stress period:    21    Time step:    18\n",
      "    Solving:  Stress period:    21    Time step:    19\n",
      "    Solving:  Stress period:    21    Time step:    20\n",
      "    Solving:  Stress period:    22    Time step:     1\n",
      "    Solving:  Stress period:    22    Time step:     2\n",
      "    Solving:  Stress period:    22    Time step:     3\n",
      "    Solving:  Stress period:    22    Time step:     4\n",
      "    Solving:  Stress period:    22    Time step:     5\n",
      "    Solving:  Stress period:    22    Time step:     6\n",
      "    Solving:  Stress period:    22    Time step:     7\n",
      "    Solving:  Stress period:    22    Time step:     8\n",
      "    Solving:  Stress period:    22    Time step:     9\n",
      "    Solving:  Stress period:    22    Time step:    10\n",
      "    Solving:  Stress period:    22    Time step:    11\n",
      "    Solving:  Stress period:    22    Time step:    12\n",
      "    Solving:  Stress period:    22    Time step:    13\n",
      "    Solving:  Stress period:    22    Time step:    14\n",
      "    Solving:  Stress period:    22    Time step:    15\n",
      "    Solving:  Stress period:    22    Time step:    16\n",
      "    Solving:  Stress period:    22    Time step:    17\n",
      "    Solving:  Stress period:    22    Time step:    18\n",
      "    Solving:  Stress period:    22    Time step:    19\n",
      "    Solving:  Stress period:    22    Time step:    20\n",
      "    Solving:  Stress period:    23    Time step:     1\n",
      "    Solving:  Stress period:    23    Time step:     2\n",
      "    Solving:  Stress period:    23    Time step:     3\n",
      "    Solving:  Stress period:    23    Time step:     4\n",
      "    Solving:  Stress period:    23    Time step:     5\n",
      "    Solving:  Stress period:    23    Time step:     6\n",
      "    Solving:  Stress period:    23    Time step:     7\n",
      "    Solving:  Stress period:    23    Time step:     8\n",
      "    Solving:  Stress period:    23    Time step:     9\n",
      "    Solving:  Stress period:    23    Time step:    10\n",
      "    Solving:  Stress period:    23    Time step:    11\n",
      "    Solving:  Stress period:    23    Time step:    12\n",
      "    Solving:  Stress period:    23    Time step:    13\n",
      "    Solving:  Stress period:    23    Time step:    14\n",
      "    Solving:  Stress period:    23    Time step:    15\n",
      "    Solving:  Stress period:    23    Time step:    16\n",
      "    Solving:  Stress period:    23    Time step:    17\n",
      "    Solving:  Stress period:    23    Time step:    18\n",
      "    Solving:  Stress period:    23    Time step:    19\n",
      "    Solving:  Stress period:    23    Time step:    20\n",
      "    Solving:  Stress period:    24    Time step:     1\n",
      "    Solving:  Stress period:    24    Time step:     2\n",
      "    Solving:  Stress period:    24    Time step:     3\n",
      "    Solving:  Stress period:    24    Time step:     4\n",
      "    Solving:  Stress period:    24    Time step:     5\n",
      "    Solving:  Stress period:    24    Time step:     6\n",
      "    Solving:  Stress period:    24    Time step:     7\n",
      "    Solving:  Stress period:    24    Time step:     8\n",
      "    Solving:  Stress period:    24    Time step:     9\n",
      "    Solving:  Stress period:    24    Time step:    10\n",
      "    Solving:  Stress period:    24    Time step:    11\n",
      "    Solving:  Stress period:    24    Time step:    12\n",
      "    Solving:  Stress period:    24    Time step:    13\n",
      "    Solving:  Stress period:    24    Time step:    14\n",
      "    Solving:  Stress period:    24    Time step:    15\n",
      "    Solving:  Stress period:    24    Time step:    16\n",
      "    Solving:  Stress period:    24    Time step:    17\n",
      "    Solving:  Stress period:    24    Time step:    18\n",
      "    Solving:  Stress period:    24    Time step:    19\n",
      "    Solving:  Stress period:    24    Time step:    20\n",
      "    Solving:  Stress period:    25    Time step:     1\n",
      "    Solving:  Stress period:    25    Time step:     2\n",
      "    Solving:  Stress period:    25    Time step:     3\n",
      "    Solving:  Stress period:    25    Time step:     4\n",
      "    Solving:  Stress period:    25    Time step:     5\n",
      "    Solving:  Stress period:    25    Time step:     6\n",
      "    Solving:  Stress period:    25    Time step:     7\n",
      "    Solving:  Stress period:    25    Time step:     8\n",
      "    Solving:  Stress period:    25    Time step:     9\n",
      "    Solving:  Stress period:    25    Time step:    10\n",
      "    Solving:  Stress period:    25    Time step:    11\n",
      "    Solving:  Stress period:    25    Time step:    12\n",
      "    Solving:  Stress period:    25    Time step:    13\n",
      "    Solving:  Stress period:    25    Time step:    14\n",
      "    Solving:  Stress period:    25    Time step:    15\n",
      "    Solving:  Stress period:    25    Time step:    16\n",
      "    Solving:  Stress period:    25    Time step:    17\n",
      "    Solving:  Stress period:    25    Time step:    18\n",
      "    Solving:  Stress period:    25    Time step:    19\n",
      "    Solving:  Stress period:    25    Time step:    20\n",
      "    Solving:  Stress period:    26    Time step:     1\n",
      "    Solving:  Stress period:    26    Time step:     2\n",
      "    Solving:  Stress period:    26    Time step:     3\n",
      "    Solving:  Stress period:    26    Time step:     4\n",
      "    Solving:  Stress period:    26    Time step:     5\n",
      "    Solving:  Stress period:    26    Time step:     6\n",
      "    Solving:  Stress period:    26    Time step:     7\n",
      "    Solving:  Stress period:    26    Time step:     8\n",
      "    Solving:  Stress period:    26    Time step:     9\n",
      "    Solving:  Stress period:    26    Time step:    10\n",
      "    Solving:  Stress period:    26    Time step:    11\n",
      "    Solving:  Stress period:    26    Time step:    12\n",
      "    Solving:  Stress period:    26    Time step:    13\n",
      "    Solving:  Stress period:    26    Time step:    14\n",
      "    Solving:  Stress period:    26    Time step:    15\n",
      "    Solving:  Stress period:    26    Time step:    16\n",
      "    Solving:  Stress period:    26    Time step:    17\n",
      "    Solving:  Stress period:    26    Time step:    18\n",
      "    Solving:  Stress period:    26    Time step:    19\n",
      "    Solving:  Stress period:    26    Time step:    20\n",
      "    Solving:  Stress period:    27    Time step:     1\n",
      "    Solving:  Stress period:    27    Time step:     2\n",
      "    Solving:  Stress period:    27    Time step:     3\n",
      "    Solving:  Stress period:    27    Time step:     4\n",
      "    Solving:  Stress period:    27    Time step:     5\n",
      "    Solving:  Stress period:    27    Time step:     6\n",
      "    Solving:  Stress period:    27    Time step:     7\n",
      "    Solving:  Stress period:    27    Time step:     8\n",
      "    Solving:  Stress period:    27    Time step:     9\n",
      "    Solving:  Stress period:    27    Time step:    10\n",
      "    Solving:  Stress period:    27    Time step:    11\n",
      "    Solving:  Stress period:    27    Time step:    12\n",
      "    Solving:  Stress period:    27    Time step:    13\n",
      "    Solving:  Stress period:    27    Time step:    14\n",
      "    Solving:  Stress period:    27    Time step:    15\n",
      "    Solving:  Stress period:    27    Time step:    16\n",
      "    Solving:  Stress period:    27    Time step:    17\n",
      "    Solving:  Stress period:    27    Time step:    18\n",
      "    Solving:  Stress period:    27    Time step:    19\n",
      "    Solving:  Stress period:    27    Time step:    20\n",
      "    Solving:  Stress period:    28    Time step:     1\n",
      "    Solving:  Stress period:    28    Time step:     2\n",
      "    Solving:  Stress period:    28    Time step:     3\n",
      "    Solving:  Stress period:    28    Time step:     4\n",
      "    Solving:  Stress period:    28    Time step:     5\n",
      "    Solving:  Stress period:    28    Time step:     6\n",
      "    Solving:  Stress period:    28    Time step:     7\n",
      "    Solving:  Stress period:    28    Time step:     8\n",
      "    Solving:  Stress period:    28    Time step:     9\n",
      "    Solving:  Stress period:    28    Time step:    10\n",
      "    Solving:  Stress period:    28    Time step:    11\n",
      "    Solving:  Stress period:    28    Time step:    12\n",
      "    Solving:  Stress period:    28    Time step:    13\n",
      "    Solving:  Stress period:    28    Time step:    14\n",
      "    Solving:  Stress period:    28    Time step:    15\n",
      "    Solving:  Stress period:    28    Time step:    16\n",
      "    Solving:  Stress period:    28    Time step:    17\n",
      "    Solving:  Stress period:    28    Time step:    18\n",
      "    Solving:  Stress period:    28    Time step:    19\n",
      "    Solving:  Stress period:    28    Time step:    20\n",
      "    Solving:  Stress period:    29    Time step:     1\n",
      "    Solving:  Stress period:    29    Time step:     2\n",
      "    Solving:  Stress period:    29    Time step:     3\n",
      "    Solving:  Stress period:    29    Time step:     4\n",
      "    Solving:  Stress period:    29    Time step:     5\n",
      "    Solving:  Stress period:    29    Time step:     6\n",
      "    Solving:  Stress period:    29    Time step:     7\n",
      "    Solving:  Stress period:    29    Time step:     8\n",
      "    Solving:  Stress period:    29    Time step:     9\n",
      "    Solving:  Stress period:    29    Time step:    10\n",
      "    Solving:  Stress period:    29    Time step:    11\n",
      "    Solving:  Stress period:    29    Time step:    12\n",
      "    Solving:  Stress period:    29    Time step:    13\n",
      "    Solving:  Stress period:    29    Time step:    14\n",
      "    Solving:  Stress period:    29    Time step:    15\n",
      "    Solving:  Stress period:    29    Time step:    16\n",
      "    Solving:  Stress period:    29    Time step:    17\n",
      "    Solving:  Stress period:    29    Time step:    18\n",
      "    Solving:  Stress period:    29    Time step:    19\n",
      "    Solving:  Stress period:    29    Time step:    20\n",
      "    Solving:  Stress period:    30    Time step:     1\n",
      "    Solving:  Stress period:    30    Time step:     2\n",
      "    Solving:  Stress period:    30    Time step:     3\n",
      "    Solving:  Stress period:    30    Time step:     4\n",
      "    Solving:  Stress period:    30    Time step:     5\n",
      "    Solving:  Stress period:    30    Time step:     6\n",
      "    Solving:  Stress period:    30    Time step:     7\n",
      "    Solving:  Stress period:    30    Time step:     8\n",
      "    Solving:  Stress period:    30    Time step:     9\n",
      "    Solving:  Stress period:    30    Time step:    10\n",
      "    Solving:  Stress period:    30    Time step:    11\n",
      "    Solving:  Stress period:    30    Time step:    12\n",
      "    Solving:  Stress period:    30    Time step:    13\n",
      "    Solving:  Stress period:    30    Time step:    14\n",
      "    Solving:  Stress period:    30    Time step:    15\n",
      "    Solving:  Stress period:    30    Time step:    16\n",
      "    Solving:  Stress period:    30    Time step:    17\n",
      "    Solving:  Stress period:    30    Time step:    18\n",
      "    Solving:  Stress period:    30    Time step:    19\n",
      "    Solving:  Stress period:    30    Time step:    20\n",
      "    Solving:  Stress period:    31    Time step:     1\n",
      "    Solving:  Stress period:    31    Time step:     2\n",
      "    Solving:  Stress period:    31    Time step:     3\n",
      "    Solving:  Stress period:    31    Time step:     4\n",
      "    Solving:  Stress period:    31    Time step:     5\n",
      "    Solving:  Stress period:    31    Time step:     6\n",
      "    Solving:  Stress period:    31    Time step:     7\n",
      "    Solving:  Stress period:    31    Time step:     8\n",
      "    Solving:  Stress period:    31    Time step:     9\n",
      "    Solving:  Stress period:    31    Time step:    10\n",
      "    Solving:  Stress period:    31    Time step:    11\n",
      "    Solving:  Stress period:    31    Time step:    12\n",
      "    Solving:  Stress period:    31    Time step:    13\n",
      "    Solving:  Stress period:    31    Time step:    14\n",
      "    Solving:  Stress period:    31    Time step:    15\n",
      "    Solving:  Stress period:    31    Time step:    16\n",
      "    Solving:  Stress period:    31    Time step:    17\n",
      "    Solving:  Stress period:    31    Time step:    18\n",
      "    Solving:  Stress period:    31    Time step:    19\n",
      "    Solving:  Stress period:    31    Time step:    20\n",
      " \n",
      " Run end date and time (yyyy/mm/dd hh:mm:ss): 2023/12/01  1:48:17\n",
      " Elapsed run time: 52.498 Seconds\n",
      " \n",
      " Normal termination of simulation.\n",
      "\n",
      "Success is:  True\n"
     ]
    }
   ],
   "source": [
    "model.run_simulation()"
   ],
   "metadata": {
    "collapsed": false,
    "ExecuteTime": {
     "end_time": "2023-12-01T09:48:17.795510500Z",
     "start_time": "2023-12-01T09:47:12.692139600Z"
    }
   },
   "id": "65ef4a1ee4807ced"
  },
  {
   "cell_type": "code",
   "execution_count": 16,
   "outputs": [],
   "source": [
    "hds.plot_choropleth(stp_per_to_plot=(19,5), plot_mounding=True).show()"
   ],
   "metadata": {
    "collapsed": false,
    "ExecuteTime": {
     "end_time": "2023-12-01T09:48:26.587162400Z",
     "start_time": "2023-12-01T09:48:22.512202200Z"
    }
   },
   "id": "96e719b3a2108f45"
  },
  {
   "cell_type": "code",
   "execution_count": 4,
   "outputs": [
    {
     "ename": "AttributeError",
     "evalue": "'VoronoiGridPlus' object has no attribute 'cell_list'",
     "output_type": "error",
     "traceback": [
      "\u001B[1;31m---------------------------------------------------------------------------\u001B[0m",
      "\u001B[1;31mAttributeError\u001B[0m                            Traceback (most recent call last)",
      "Cell \u001B[1;32mIn[4], line 16\u001B[0m\n\u001B[0;32m      7\u001B[0m \u001B[38;5;28;01mimport\u001B[39;00m \u001B[38;5;21;01mdash_bootstrap_components\u001B[39;00m \u001B[38;5;28;01mas\u001B[39;00m \u001B[38;5;21;01mdbc\u001B[39;00m\n\u001B[0;32m      9\u001B[0m app \u001B[38;5;241m=\u001B[39m dash\u001B[38;5;241m.\u001B[39mDash()\n\u001B[0;32m     10\u001B[0m app\u001B[38;5;241m.\u001B[39mlayout \u001B[38;5;241m=\u001B[39m html\u001B[38;5;241m.\u001B[39mDiv(\n\u001B[0;32m     11\u001B[0m     [\n\u001B[0;32m     12\u001B[0m         dbc\u001B[38;5;241m.\u001B[39mRow(\n\u001B[0;32m     13\u001B[0m             dbc\u001B[38;5;241m.\u001B[39mCol(\n\u001B[0;32m     14\u001B[0m                 [\n\u001B[0;32m     15\u001B[0m                     dcc\u001B[38;5;241m.\u001B[39mGraph(\n\u001B[1;32m---> 16\u001B[0m                         figure\u001B[38;5;241m=\u001B[39m\u001B[43mvor\u001B[49m\u001B[38;5;241;43m.\u001B[39;49m\u001B[43mplot_choropleth\u001B[49m\u001B[43m(\u001B[49m\u001B[43m)\u001B[49m,\n\u001B[0;32m     17\u001B[0m                         className\u001B[38;5;241m=\u001B[39m\u001B[38;5;124m\"\u001B[39m\u001B[38;5;124mflex-grow-1\u001B[39m\u001B[38;5;124m\"\u001B[39m,\n\u001B[0;32m     18\u001B[0m                         style\u001B[38;5;241m=\u001B[39m{\u001B[38;5;124m\"\u001B[39m\u001B[38;5;124mheight\u001B[39m\u001B[38;5;124m\"\u001B[39m: \u001B[38;5;124m\"\u001B[39m\u001B[38;5;124m95vh\u001B[39m\u001B[38;5;124m\"\u001B[39m},\n\u001B[0;32m     19\u001B[0m                         \u001B[38;5;28mid\u001B[39m\u001B[38;5;241m=\u001B[39m\u001B[38;5;124m\"\u001B[39m\u001B[38;5;124mfig\u001B[39m\u001B[38;5;124m\"\u001B[39m,\n\u001B[0;32m     20\u001B[0m                     )\n\u001B[0;32m     21\u001B[0m                 ],\n\u001B[0;32m     22\u001B[0m                 class_name\u001B[38;5;241m=\u001B[39m\u001B[38;5;124m\"\u001B[39m\u001B[38;5;124mh-100 d-flex flex-column\u001B[39m\u001B[38;5;124m\"\u001B[39m,\n\u001B[0;32m     23\u001B[0m                 style\u001B[38;5;241m=\u001B[39m{\u001B[38;5;124m\"\u001B[39m\u001B[38;5;124mheight\u001B[39m\u001B[38;5;124m\"\u001B[39m: \u001B[38;5;124m\"\u001B[39m\u001B[38;5;124m95vh\u001B[39m\u001B[38;5;124m\"\u001B[39m},\n\u001B[0;32m     24\u001B[0m             ),\n\u001B[0;32m     25\u001B[0m             style\u001B[38;5;241m=\u001B[39m{\u001B[38;5;124m\"\u001B[39m\u001B[38;5;124mheight\u001B[39m\u001B[38;5;124m\"\u001B[39m: \u001B[38;5;124m\"\u001B[39m\u001B[38;5;124m95vh\u001B[39m\u001B[38;5;124m\"\u001B[39m},\n\u001B[0;32m     26\u001B[0m         ),\n\u001B[0;32m     27\u001B[0m         dcc\u001B[38;5;241m.\u001B[39mStore(\u001B[38;5;28mid\u001B[39m\u001B[38;5;241m=\u001B[39m\u001B[38;5;124m\"\u001B[39m\u001B[38;5;124mselected\u001B[39m\u001B[38;5;124m\"\u001B[39m),\n\u001B[0;32m     28\u001B[0m     ],\n\u001B[0;32m     29\u001B[0m     style\u001B[38;5;241m=\u001B[39m{\u001B[38;5;124m\"\u001B[39m\u001B[38;5;124mheight\u001B[39m\u001B[38;5;124m\"\u001B[39m: \u001B[38;5;124m\"\u001B[39m\u001B[38;5;124m95vh\u001B[39m\u001B[38;5;124m\"\u001B[39m},\n\u001B[0;32m     30\u001B[0m )\n\u001B[0;32m     33\u001B[0m \u001B[38;5;129m@app\u001B[39m\u001B[38;5;241m.\u001B[39mcallback(\n\u001B[0;32m     34\u001B[0m     Output(component_id\u001B[38;5;241m=\u001B[39m\u001B[38;5;124m\"\u001B[39m\u001B[38;5;124mselected\u001B[39m\u001B[38;5;124m\"\u001B[39m, component_property\u001B[38;5;241m=\u001B[39m\u001B[38;5;124m\"\u001B[39m\u001B[38;5;124mdata\u001B[39m\u001B[38;5;124m\"\u001B[39m),\n\u001B[0;32m     35\u001B[0m     Input(component_id\u001B[38;5;241m=\u001B[39m\u001B[38;5;124m\"\u001B[39m\u001B[38;5;124mfig\u001B[39m\u001B[38;5;124m\"\u001B[39m, component_property\u001B[38;5;241m=\u001B[39m\u001B[38;5;124m\"\u001B[39m\u001B[38;5;124mselectedData\u001B[39m\u001B[38;5;124m\"\u001B[39m),\n\u001B[0;32m     36\u001B[0m     prevent_initial_callbacks\u001B[38;5;241m=\u001B[39m\u001B[38;5;28;01mTrue\u001B[39;00m,\n\u001B[0;32m     37\u001B[0m )\n\u001B[0;32m     38\u001B[0m \u001B[38;5;28;01mdef\u001B[39;00m \u001B[38;5;21mon_select\u001B[39m(selectedData):\n\u001B[0;32m     39\u001B[0m     selected_cells \u001B[38;5;241m=\u001B[39m []\n",
      "File \u001B[1;32m~\\simple-modflow\\simple_modflow\\mf6\\voronoiplus.py:307\u001B[0m, in \u001B[0;36mVoronoiGridPlus.plot_choropleth\u001B[1;34m(self, zmin, zmax)\u001B[0m\n\u001B[0;32m    302\u001B[0m     zmin \u001B[38;5;241m=\u001B[39m \u001B[38;5;241m0\u001B[39m\n\u001B[0;32m    304\u001B[0m fig_mbox \u001B[38;5;241m=\u001B[39m mf2Dplots\u001B[38;5;241m.\u001B[39mChoroplethPlot()\n\u001B[0;32m    305\u001B[0m custom_data, hover_template \u001B[38;5;241m=\u001B[39m fig_mbox\u001B[38;5;241m.\u001B[39mcreate_hover(\n\u001B[0;32m    306\u001B[0m     {\n\u001B[1;32m--> 307\u001B[0m         \u001B[38;5;124m'\u001B[39m\u001B[38;5;124mCell No.\u001B[39m\u001B[38;5;124m'\u001B[39m: \u001B[38;5;28;43mself\u001B[39;49m\u001B[38;5;241;43m.\u001B[39;49m\u001B[43mcell_list\u001B[49m,\n\u001B[0;32m    308\u001B[0m         \u001B[38;5;124m'\u001B[39m\u001B[38;5;124mArea\u001B[39m\u001B[38;5;124m'\u001B[39m: \u001B[38;5;28mself\u001B[39m\u001B[38;5;241m.\u001B[39marea_list,\n\u001B[0;32m    309\u001B[0m         \u001B[38;5;124m'\u001B[39m\u001B[38;5;124mx\u001B[39m\u001B[38;5;124m'\u001B[39m: \u001B[38;5;28mself\u001B[39m\u001B[38;5;241m.\u001B[39mx_list,\n\u001B[0;32m    310\u001B[0m         \u001B[38;5;124m'\u001B[39m\u001B[38;5;124my\u001B[39m\u001B[38;5;124m'\u001B[39m: \u001B[38;5;28mself\u001B[39m\u001B[38;5;241m.\u001B[39my_list\n\u001B[0;32m    311\u001B[0m     }\n\u001B[0;32m    312\u001B[0m )\n\u001B[0;32m    313\u001B[0m fig_mbox\u001B[38;5;241m.\u001B[39madd_choroplethmapbox(\n\u001B[0;32m    314\u001B[0m     geojson\u001B[38;5;241m=\u001B[39m\u001B[38;5;28mself\u001B[39m\u001B[38;5;241m.\u001B[39mlatslons,\n\u001B[0;32m    315\u001B[0m     featureidkey\u001B[38;5;241m=\u001B[39m\u001B[38;5;124m\"\u001B[39m\u001B[38;5;124mid\u001B[39m\u001B[38;5;124m\"\u001B[39m,\n\u001B[1;32m   (...)\u001B[0m\n\u001B[0;32m    322\u001B[0m     hovertemplate\u001B[38;5;241m=\u001B[39mhover_template\n\u001B[0;32m    323\u001B[0m )\n\u001B[0;32m    325\u001B[0m \u001B[38;5;28;01mreturn\u001B[39;00m fig_mbox\n",
      "\u001B[1;31mAttributeError\u001B[0m: 'VoronoiGridPlus' object has no attribute 'cell_list'"
     ]
    }
   ],
   "source": [
    "### ### DASH ### ###\n",
    "### DASH app to store selected cell ids ###\n",
    "\n",
    "import dash\n",
    "from dash import dcc\n",
    "from dash import html, Input, Output\n",
    "import dash_bootstrap_components as dbc\n",
    "\n",
    "app = dash.Dash()\n",
    "app.layout = html.Div(\n",
    "    [\n",
    "        dbc.Row(\n",
    "            dbc.Col(\n",
    "                [\n",
    "                    dcc.Graph(\n",
    "                        figure=vor.plot_choropleth(),\n",
    "                        className=\"flex-grow-1\",\n",
    "                        style={\"height\": \"95vh\"},\n",
    "                        id=\"fig\",\n",
    "                    )\n",
    "                ],\n",
    "                class_name=\"h-100 d-flex flex-column\",\n",
    "                style={\"height\": \"95vh\"},\n",
    "            ),\n",
    "            style={\"height\": \"95vh\"},\n",
    "        ),\n",
    "        dcc.Store(id=\"selected\"),\n",
    "    ],\n",
    "    style={\"height\": \"95vh\"},\n",
    ")\n",
    "\n",
    "\n",
    "@app.callback(\n",
    "    Output(component_id=\"selected\", component_property=\"data\"),\n",
    "    Input(component_id=\"fig\", component_property=\"selectedData\"),\n",
    "    prevent_initial_callbacks=True,\n",
    ")\n",
    "def on_select(selectedData):\n",
    "    selected_cells = []\n",
    "    for cell in selectedData[\"points\"]:\n",
    "        selected_cells.append(int(cell[\"location\"]))\n",
    "        print(selected_cells)\n",
    "    return selected_cells\n",
    "\n",
    "\n",
    "app.run(debug=True, use_reloader=False)  # Turn off reloader if inside Jupyter"
   ],
   "metadata": {
    "collapsed": false,
    "ExecuteTime": {
     "end_time": "2023-12-01T09:14:13.147666100Z",
     "start_time": "2023-12-01T09:14:11.372601400Z"
    }
   },
   "id": "34039364c7da2981"
  },
  {
   "cell_type": "code",
   "execution_count": 15,
   "outputs": [],
   "source": [
    "from budgetplus import BudgetPlus\n",
    "import paths\n",
    "bud = BudgetPlus(cbb_path=model.model_output_folder_path.joinpath('mf6_model.cbc'), vor=vor)"
   ],
   "metadata": {
    "collapsed": false,
    "ExecuteTime": {
     "end_time": "2023-11-09T19:28:34.416807Z",
     "start_time": "2023-11-09T19:28:34.189232400Z"
    }
   },
   "id": "746d42bb62132993"
  },
  {
   "cell_type": "code",
   "execution_count": 25,
   "outputs": [],
   "source": [
    "rch_bud = bud.get_rch_bud()\n",
    "rch_bud = (rch_bud.reset_index(drop=True))"
   ],
   "metadata": {
    "collapsed": false,
    "ExecuteTime": {
     "end_time": "2023-11-09T19:32:54.672598Z",
     "start_time": "2023-11-09T19:32:54.641714600Z"
    }
   },
   "id": "7dc846d4ff068e1b"
  },
  {
   "cell_type": "code",
   "execution_count": 2,
   "outputs": [],
   "source": [],
   "metadata": {
    "collapsed": false,
    "ExecuteTime": {
     "end_time": "2023-11-18T19:17:22.421317300Z",
     "start_time": "2023-11-18T19:17:19.276944100Z"
    }
   },
   "id": "67176b657ee5d2ee"
  },
  {
   "cell_type": "code",
   "execution_count": 4,
   "outputs": [],
   "source": [
    "from scipy.interpolate import griddata\n",
    "import pandas as pd\n",
    "import plotly.graph_objs as go\n",
    "heads = hp(hds_path=Path.home().joinpath('mf6', 'mf6_model', 'mf6_model.hds'), vor=vor)\n",
    "\"\"\"Get Voronoi Grid Centroid x,y-coords\"\"\"\n",
    "centroids_xy = list(zip(vor.centroids_x, vor.centroids_y))\n",
    "\n",
    "\"\"\"\"Get heads at Vornoi Grid Vertices\"\"\"\n",
    "x_surface, y_surface = vor.generate_grid_coordinates(10)\n",
    "xy = list(zip(x_surface, y_surface))\n",
    "\n",
    "\"\"\"Interpolate heads at Voronoi Vertices\"\"\"\n",
    "kstpkper = (19,15)  # stress period to get data from\n",
    "gridded_heads = griddata(\n",
    "    points=centroids_xy, values=heads.all_heads.loc[kstpkper,:]['elev'].to_list(), xi=xy, method=\"cubic\"\n",
    ")\n",
    "gridded_model_botm = griddata(\n",
    "    points=centroids_xy, values=vor.gdf_topbtm[\"bottom\"], xi=xy, method=\"cubic\"\n",
    ")\n",
    "xyz_heads = list(zip(x_surface, y_surface, gridded_heads, gridded_model_botm))\n",
    "\n",
    "\"\"\"Make DataFrame of x,y,z coordinates, sort by y,\n",
    "and drop any N/A values\"\"\"\n",
    "df_xyz_gridded = pd.DataFrame(xyz_heads, columns=[\"x\", \"y\", \"head\", \"botm\"])\n",
    "df_xyz_gridded.sort_values(by=[\"y\", \"x\"], inplace=True, ascending=False)\n",
    "df_xyz_gridded.reset_index(drop=True, inplace=True)"
   ],
   "metadata": {
    "collapsed": false,
    "ExecuteTime": {
     "end_time": "2023-11-23T20:01:10.125615900Z",
     "start_time": "2023-11-23T20:01:07.317307400Z"
    }
   },
   "id": "895c56781e2a7eed"
  },
  {
   "cell_type": "code",
   "execution_count": 5,
   "outputs": [],
   "source": [
    "df_xyz_gridded['mounding'] = df_xyz_gridded['head'] - df_xyz_gridded['botm']"
   ],
   "metadata": {
    "collapsed": false,
    "ExecuteTime": {
     "end_time": "2023-11-23T20:01:11.604386700Z",
     "start_time": "2023-11-23T20:01:11.571858400Z"
    }
   },
   "id": "7dd83e4cf1bc2e86"
  },
  {
   "cell_type": "code",
   "execution_count": 7,
   "outputs": [],
   "source": [
    "\"\"\"Reshape x,y,z arrays for Surface plot\"\"\"\n",
    "col_to_plot = 'head'\n",
    "unqiue_y = list(set(df_xyz_gridded[\"y\"].to_list()))\n",
    "unqiue_x = list(set(df_xyz_gridded[\"x\"].to_list()))\n",
    "xcol = df_xyz_gridded[\"x\"].to_list().count(unqiue_x[2])\n",
    "yrow = df_xyz_gridded[\"y\"].to_list().count(unqiue_y[2])\n",
    "z_reshaped = df_xyz_gridded[col_to_plot].to_numpy().reshape(xcol, yrow)\n",
    "mounding_reshaped = df_xyz_gridded['mounding'].to_numpy().reshape(xcol, yrow)\n",
    "x_reshaped = df_xyz_gridded[\"x\"].to_numpy().reshape(xcol, yrow)\n",
    "y_reshaped = df_xyz_gridded[\"y\"].to_numpy().reshape(xcol, yrow)\n",
    "botm_reshaped = df_xyz_gridded[\"botm\"].to_numpy().reshape(xcol, yrow)\n",
    "\n",
    "z_min = df_xyz_gridded[col_to_plot].min()\n",
    "z_max = df_xyz_gridded[col_to_plot].max()\n",
    "\n",
    "surface_scene = go.layout.Scene(zaxis_range=[-500, 500])\n",
    "\n",
    "fig_surf = go.Figure(\n",
    "    go.Surface(\n",
    "        z=z_reshaped,\n",
    "        x=x_reshaped,\n",
    "        y=y_reshaped,\n",
    "        surfacecolor=mounding_reshaped,\n",
    "        opacity=1,\n",
    "        colorscale='earth',\n",
    "        scene=\"scene\",\n",
    "        #hovertemplate=\n",
    "        contours={\n",
    "            \"z\": {\n",
    "                \"show\": True,\n",
    "                \"start\": z_min,\n",
    "                \"end\": z_max,\n",
    "                \"size\": 2,\n",
    "                \"highlight\": True,\n",
    "                \"width\": 2,\n",
    "            }\n",
    "        },\n",
    "    )\n",
    ")\n",
    "fig_surf.update_scenes(patch=surface_scene)\n",
    "\n",
    "fig_surf.show(renderer=\"browser\")"
   ],
   "metadata": {
    "collapsed": false,
    "ExecuteTime": {
     "end_time": "2023-11-23T20:01:36.976555800Z",
     "start_time": "2023-11-23T20:01:35.889126800Z"
    }
   },
   "id": "f7051c10ce862297"
  },
  {
   "cell_type": "code",
   "execution_count": 6,
   "outputs": [],
   "source": [
    "def add_rectangle(\n",
    "        x_dist=100,\n",
    "        y_dist=100,\n",
    "        origin=(0, 0),\n",
    "):\n",
    "    x_min, y_min = origin[0], origin[1]\n",
    "    x_max, y_max = x_min + x_dist, y_min + y_dist\n",
    "    polygon_coords = ((x_min, y_min), (x_min, y_max),\n",
    "                      (x_max, y_max), (x_max, y_min))\n",
    "    polygon = shp.Polygon(polygon_coords)\n",
    "\n",
    "    return polygon"
   ],
   "metadata": {
    "collapsed": false,
    "ExecuteTime": {
     "end_time": "2023-11-15T01:54:51.971193300Z",
     "start_time": "2023-11-15T01:54:51.941432600Z"
    }
   },
   "id": "435c9b7dd9632ab"
  },
  {
   "cell_type": "code",
   "execution_count": null,
   "outputs": [],
   "source": [],
   "metadata": {
    "collapsed": false
   },
   "id": "39747e8291cc25ae"
  },
  {
   "cell_type": "code",
   "execution_count": 49,
   "outputs": [],
   "source": [
    "from pathlib import Path\n",
    "import plotly.graph_objs as go\n",
    "import pandas as pd\n",
    "\n",
    "itu_data_path = Path.home().joinpath('Python', 'data', 'Tehaleh SSB ITU 24hr Test All ITUs.xlsx')\n",
    "itu_data = pd.read_excel(itu_data_path)\n",
    "itu_data = itu_data.iloc[:,1:]"
   ],
   "metadata": {
    "collapsed": false,
    "ExecuteTime": {
     "end_time": "2023-12-04T07:02:11.821711900Z",
     "start_time": "2023-12-04T07:01:50.444129400Z"
    }
   },
   "id": "2dbad047466feec1"
  },
  {
   "cell_type": "code",
   "execution_count": 197,
   "outputs": [],
   "source": [
    "idxx = pd.IndexSlice\n",
    "data_types = itu_data.iloc[1,:].dropna().unique()\n",
    "itu_names = itu_data.iloc[0,:].dropna().unique()\n",
    "multi_idx = pd.MultiIndex.from_product([itu_names,data_types])\n",
    "data_columns = list(itu_data.iloc[2:,:].reset_index(drop=True).index)\n",
    "df_itu = pd.DataFrame(index=multi_idx, columns=data_columns)\n",
    "counter=0\n",
    "data_dict = {}\n",
    "for name in itu_names:\n",
    "    for data_type in data_types:\n",
    "        df_itu.loc[idxx[name, data_type], :] = itu_data.iloc[2:,counter]\n",
    "        counter += 1\n",
    "fig = go.Figure()\n",
    "for itu in itu_names:\n",
    "    x=df_itu.loc[(itu, 'Elapsed Time (min)'), :]\n",
    "    y=df_itu.loc[(itu, 'WL elevation (ft amsl)'), :]\n",
    "    y0 = y.dropna().min()\n",
    "    sd = [y1-y0 for y1 in y]\n",
    "    data_dict[itu] = (list(x), list(y), list(sd), y0)\n",
    "    fig.add_scattergl(\n",
    "        x=x,\n",
    "        y=y,\n",
    "        name=itu\n",
    "    )"
   ],
   "metadata": {
    "collapsed": false,
    "ExecuteTime": {
     "end_time": "2023-12-04T08:41:27.427168700Z",
     "start_time": "2023-12-04T08:41:24.811791Z"
    }
   },
   "id": "55d4a1450b86ce88"
  },
  {
   "cell_type": "code",
   "execution_count": 251,
   "outputs": [],
   "source": [
    "fig.update_layout(dragmode='pan')\n",
    "fig.show(renderer='browser', config={'scrollZoom': True})"
   ],
   "metadata": {
    "collapsed": false,
    "ExecuteTime": {
     "end_time": "2023-12-04T09:32:31.754045500Z",
     "start_time": "2023-12-04T09:32:29.895892300Z"
    }
   },
   "id": "7110c6c137d3eae6"
  },
  {
   "cell_type": "code",
   "execution_count": 249,
   "outputs": [],
   "source": [
    "import scipy\n",
    "fig_ex = go.Figure()\n",
    "for itu in list(data_dict.keys()):\n",
    "    xd, yd, sd, y0 = zip(data_dict[itu])\n",
    "    max_time = pd.Series(xd[0]).max()\n",
    "    times_to_extend = [time for time in range(1441, int(max_time), 1)]\n",
    "    times_since_off = np.array([time-1440 for time in times_to_extend])\n",
    "    interpd = scipy.interpolate.interp1d(xd[0],yd[0])\n",
    "    sd_recovery = interpd(times_to_extend) - y0[0]\n",
    "    sd_time_since_off = interpd(times_since_off) - y0[0]\n",
    "    sd_extrapolated = sd_recovery+sd_time_since_off\n",
    "    y_extrapolated = y0[0] + sd_extrapolated\n",
    "    fig_ex.add_scattergl(x=xd[0], y=yd[0], name=itu)\n",
    "    fig_ex.add_scattergl(\n",
    "        x=times_to_extend,\n",
    "        y=y_extrapolated.tolist(),\n",
    "        name=f'{itu} extrapolated'\n",
    "    )"
   ],
   "metadata": {
    "collapsed": false,
    "ExecuteTime": {
     "end_time": "2023-12-04T09:29:50.467299400Z",
     "start_time": "2023-12-04T09:29:47.818239600Z"
    }
   },
   "id": "4c341643a4d14359"
  },
  {
   "cell_type": "code",
   "execution_count": 250,
   "outputs": [],
   "source": [
    "fig_ex.show(renderer='browser')"
   ],
   "metadata": {
    "collapsed": false,
    "ExecuteTime": {
     "end_time": "2023-12-04T09:29:55.024472400Z",
     "start_time": "2023-12-04T09:29:53.754743500Z"
    }
   },
   "id": "c944e1832af7688b"
  },
  {
   "cell_type": "code",
   "execution_count": 205,
   "outputs": [],
   "source": [
    "interpd = scipy.interpolate.interp1d(xd,yd)"
   ],
   "metadata": {
    "collapsed": false,
    "ExecuteTime": {
     "end_time": "2023-12-04T08:50:18.796779200Z",
     "start_time": "2023-12-04T08:50:18.785388500Z"
    }
   },
   "id": "b08e3fad06f8ef10"
  },
  {
   "cell_type": "code",
   "execution_count": 2,
   "outputs": [],
   "source": [
    "import pickle\n",
    "from pathlib import Path\n",
    "\n",
    "fig_path = Path.home().joinpath('.azure', 'Ten-Trails-Water-Levels', 'Ten%20Trails%20Water%20Levels%20Visualization', 'sample_data', 'Ten_Trails.fig')\n",
    "with open(fig_path, mode='rb') as f:\n",
    "    fig = pickle.load(f)"
   ],
   "metadata": {
    "collapsed": false,
    "ExecuteTime": {
     "end_time": "2023-12-19T18:16:02.233427600Z",
     "start_time": "2023-12-19T18:15:52.293848600Z"
    }
   },
   "id": "8d6ae7992ea5a4c0"
  },
  {
   "cell_type": "code",
   "execution_count": 8,
   "outputs": [
    {
     "data": {
      "text/plain": "Scattergl({\n    'line': {'color': 'rgb(140, 86, 75)', 'width': 1.5},\n    'marker': {'color': 'rgb(140, 86, 75)', 'size': 5},\n    'mode': 'markers',\n    'name': 'RW-1',\n    'x': [1993-11-02 00:00:00, 1993-12-10 00:00:00, 1994-02-02 00:00:00, ...,\n          2023-09-18 00:00:00, 2023-10-12 00:00:00, 2023-10-17 00:00:00],\n    'xaxis': 'x',\n    'y': [nan, nan, nan, ..., nan, nan, nan],\n    'yaxis': 'y'\n})"
     },
     "execution_count": 8,
     "metadata": {},
     "output_type": "execute_result"
    }
   ],
   "source": [
    "fig.data[183]"
   ],
   "metadata": {
    "collapsed": false,
    "ExecuteTime": {
     "end_time": "2023-12-19T18:18:57.925526900Z",
     "start_time": "2023-12-19T18:18:57.909484400Z"
    }
   },
   "id": "56a59d027dcf05a6"
  },
  {
   "cell_type": "code",
   "execution_count": 7,
   "outputs": [],
   "source": [
    "import sys\n",
    "from pathlib import Path\n",
    "import os\n",
    "current_path = os.environ.get('Path', '')\n",
    "qgis_path = 'C:\\\\OSGeo4W\\\\apps\\\\qgis\\\\python\\\\qgis'\n",
    "new_path = qgis_path + os.pathsep + current_path\n",
    "os.environ['PATH'] = new_path"
   ],
   "metadata": {
    "collapsed": false,
    "ExecuteTime": {
     "end_time": "2023-12-20T23:34:57.445673600Z",
     "start_time": "2023-12-20T23:34:57.436599400Z"
    }
   },
   "id": "587c8face96b28e4"
  },
  {
   "cell_type": "code",
   "execution_count": 8,
   "outputs": [
    {
     "ename": "ModuleNotFoundError",
     "evalue": "No module named 'qgis'",
     "output_type": "error",
     "traceback": [
      "\u001B[1;31m---------------------------------------------------------------------------\u001B[0m",
      "\u001B[1;31mModuleNotFoundError\u001B[0m                       Traceback (most recent call last)",
      "Cell \u001B[1;32mIn[8], line 1\u001B[0m\n\u001B[1;32m----> 1\u001B[0m \u001B[38;5;28;01mimport\u001B[39;00m \u001B[38;5;21;01mqgis\u001B[39;00m\n",
      "\u001B[1;31mModuleNotFoundError\u001B[0m: No module named 'qgis'"
     ]
    }
   ],
   "source": [
    "import qgis"
   ],
   "metadata": {
    "collapsed": false,
    "ExecuteTime": {
     "end_time": "2023-12-20T23:34:57.811357500Z",
     "start_time": "2023-12-20T23:34:57.796649900Z"
    }
   },
   "id": "46f77d0bcec4d1cf"
  },
  {
   "cell_type": "code",
   "execution_count": null,
   "outputs": [],
   "source": [],
   "metadata": {
    "collapsed": false
   },
   "id": "797dc4a81b73d708"
  }
 ],
 "metadata": {
  "kernelspec": {
   "name": "python3",
   "language": "python",
   "display_name": "Python 3 (ipykernel)"
  },
  "language_info": {
   "codemirror_mode": {
    "name": "ipython",
    "version": 2
   },
   "file_extension": ".py",
   "mimetype": "text/x-python",
   "name": "python",
   "nbconvert_exporter": "python",
   "pygments_lexer": "ipython2",
   "version": "2.7.6"
  }
 },
 "nbformat": 4,
 "nbformat_minor": 5
}
