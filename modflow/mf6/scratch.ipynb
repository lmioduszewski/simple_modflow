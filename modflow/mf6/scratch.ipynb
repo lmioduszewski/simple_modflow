{
 "cells": [
  {
   "cell_type": "code",
   "source": [
    "from pathlib import Path\n",
    "import flopy\n",
    "import pandas as pd\n",
    "from simple_modflow.modflow.mf6.voronoiplus import VoronoiGridPlus as Vor\n",
    "from simple_modflow.modflow.mf6.voronoiplus import TriangleGrid as Triangle\n",
    "from simple_modflow.modflow.mf6.boundaries import Boundaries\n",
    "import numpy as np\n",
    "from shapely import Polygon\n",
    "from simple_modflow.modflow.mf6.headsplus import HeadsPlus as hp\n",
    "from simple_modflow.modflow.mf6.budgetplus import BudgetPlus as Bud\n",
    "import shapely as shp\n",
    "from simple_modflow.modflow.mf6 import mfsimbase as mf\n",
    "from simple_modflow.modflow.mf6.recharge import RechargeFromShp as Rch\n",
    "import itertools\n",
    "import pickle\n",
    "from simple_modflow.modflow.mf6.mfsimbase import SimulationBase\n",
    "from simple_modflow.modflow.calcs.cj_approximation import CooperJacob as CJ\n",
    "import figs as f\n",
    "\n",
    "from simple_modflow.modflow.utils.surfaces import InterpolatedSurface as S\n",
    "from simple_modflow.modflow.mf6.simplemodel import SimpleModel\n",
    "from pandas import IndexSlice as idxx\n",
    "from simple_modflow import read_gpkg\n",
    "import geopandas as gpd\n",
    "import simple_modflow.modflow.mf6.lakes as l \n",
    "from simple_modflow.modflow.utils.datatypes.xsections import XSection\n",
    "\n",
    "model_path = Path(r\"C:\\Users\\lukem\\mf6\\LkPt_v6\\LkPt_v6.model\")\n",
    "model_path = Path(r\"C:\\Users\\lukem\\mf6\\LkPt_Fac6\\LkPt_Fac6.model\")\n",
    "model_path = Path(r\"C:\\Users\\lukem\\mf6\\simplemodel\\simplemodel.model\")\n",
    "model_path = Path(r\"C:\\Users\\lukem\\mf6\\LkPt_F5_flow_lk3\\LkPt_F5_flow_lk3.model\")\n",
    "\n",
    "vor_path = Path(r'C:\\Users\\lukem\\Python\\MODFLOW\\LakePointe\\new_vor_lakepointe.vor')\n",
    "#vor_path = Path(r\"C:\\Users\\lukem\\Python\\MODFLOW\\LakePointe\\lakepointe_facility_6.vor\")\n",
    "with open(vor_path, 'rb') as file:\n",
    "    vor: Vor = pickle.load(file)\n",
    "with open(model_path, 'rb') as file:\n",
    "    model: SimulationBase = pickle.load(file)\n",
    "    \n",
    "lake_shps = [\n",
    "    Path(r\"C:\\Users\\lukem\\Python\\MODFLOW\\LakePointe\\inputs\\shp\\ponds\\facility_6.shp\"),\n",
    "    Path(r\"C:\\Users\\lukem\\Python\\MODFLOW\\LakePointe\\inputs\\shp\\pit_footprint.shp\")\n",
    "]\n",
    "lake_gpkg = Path(r\"C:\\Users\\lukem\\Python\\MODFLOW\\LakePointe\\inputs\\shp\\ponds\\facility 6 layouts.gpkg\")"
   ],
   "metadata": {
    "collapsed": false,
    "ExecuteTime": {
     "end_time": "2024-09-27T15:47:18.794395Z",
     "start_time": "2024-09-27T15:46:57.742108Z"
    }
   },
   "id": "13285569e1d018c6",
   "outputs": [
    {
     "name": "stderr",
     "output_type": "stream",
     "text": [
      "C:\\Users\\lukem\\AppData\\Local\\Programs\\Python\\Python312\\Lib\\site-packages\\reportlab\\lib\\rl_safe_eval.py:12: DeprecationWarning: ast.NameConstant is deprecated and will be removed in Python 3.14; use ast.Constant instead\n",
      "  haveNameConstant = hasattr(ast,'NameConstant')\n"
     ]
    }
   ],
   "execution_count": 1
  },
  {
   "metadata": {},
   "cell_type": "code",
   "source": "bud = Bud(vor=model.vor, cbb_path=Path(r\"C:\\Users\\lukem\\mf6\\simplemodel\\simplemodel.cbc\"))",
   "id": "cdcdcc97f0784d7f",
   "outputs": [],
   "execution_count": null
  },
  {
   "metadata": {
    "ExecuteTime": {
     "end_time": "2024-09-26T21:15:15.407449Z",
     "start_time": "2024-09-26T21:15:13.200059Z"
    }
   },
   "cell_type": "code",
   "source": "model.hds.plot_heads(17280)",
   "id": "7e7762f7a4e60e55",
   "outputs": [],
   "execution_count": 5
  },
  {
   "metadata": {
    "ExecuteTime": {
     "end_time": "2024-09-27T17:17:52.074657Z",
     "start_time": "2024-09-27T17:17:51.704902Z"
    }
   },
   "cell_type": "code",
   "source": [
    "from pyemu.utils import PstFrom\n",
    "model_dir = model.model_output_folder_path\n",
    "pf = PstFrom(model_dir, new_d=model_dir / 'pest', remove_existing=True)"
   ],
   "id": "1aa9bd8cc49e1825",
   "outputs": [
    {
     "name": "stdout",
     "output_type": "stream",
     "text": [
      "2024-09-27 10:17:51.707902 starting: opening PstFrom.log for logging\n",
      "2024-09-27 10:17:51.708903 starting PstFrom process\n",
      "2024-09-27 10:17:51.708903 starting: setting up dirs\n",
      "2024-09-27 10:17:51.708903 starting: removing existing new_d 'C:\\Users\\lukem\\mf6\\LkPt_F5_flow_lk3\\pest'\n",
      "2024-09-27 10:17:51.751604 finished: removing existing new_d 'C:\\Users\\lukem\\mf6\\LkPt_F5_flow_lk3\\pest' took: 0:00:00.042701\n",
      "2024-09-27 10:17:51.751604 starting: copying original_d 'C:\\Users\\lukem\\mf6\\LkPt_F5_flow_lk3' to new_d 'C:\\Users\\lukem\\mf6\\LkPt_F5_flow_lk3\\pest'\n",
      "2024-09-27 10:17:52.072169 finished: copying original_d 'C:\\Users\\lukem\\mf6\\LkPt_F5_flow_lk3' to new_d 'C:\\Users\\lukem\\mf6\\LkPt_F5_flow_lk3\\pest' took: 0:00:00.320565\n",
      "2024-09-27 10:17:52.073168 finished: setting up dirs took: 0:00:00.364265\n"
     ]
    }
   ],
   "execution_count": 7
  },
  {
   "metadata": {
    "ExecuteTime": {
     "end_time": "2024-09-27T17:18:08.834395Z",
     "start_time": "2024-09-27T17:18:08.812128Z"
    }
   },
   "cell_type": "code",
   "source": "pf.draw()",
   "id": "23c00b9cdb7beb36",
   "outputs": [
    {
     "name": "stdout",
     "output_type": "stream",
     "text": [
      "2024-09-27 10:18:08.813127 starting: drawing realizations\n"
     ]
    },
    {
     "ename": "AttributeError",
     "evalue": "'NoneType' object has no attribute 'npar_adj'",
     "output_type": "error",
     "traceback": [
      "\u001B[1;31m---------------------------------------------------------------------------\u001B[0m",
      "\u001B[1;31mAttributeError\u001B[0m                            Traceback (most recent call last)",
      "Cell \u001B[1;32mIn[8], line 1\u001B[0m\n\u001B[1;32m----> 1\u001B[0m \u001B[43mpf\u001B[49m\u001B[38;5;241;43m.\u001B[39;49m\u001B[43mdraw\u001B[49m\u001B[43m(\u001B[49m\u001B[43m)\u001B[49m\n",
      "File \u001B[1;32m~\\AppData\\Local\\Programs\\Python\\Python312\\Lib\\site-packages\\pyemu\\utils\\pst_from.py:646\u001B[0m, in \u001B[0;36mPstFrom.draw\u001B[1;34m(self, num_reals, sigma_range, use_specsim, scale_offset)\u001B[0m\n\u001B[0;32m    623\u001B[0m \u001B[38;5;250m\u001B[39m\u001B[38;5;124;03m\"\"\"Draw a parameter ensemble from the distribution implied by the initial parameter values in the\u001B[39;00m\n\u001B[0;32m    624\u001B[0m \u001B[38;5;124;03mcontrol file and the prior parameter covariance matrix.\u001B[39;00m\n\u001B[0;32m    625\u001B[0m \n\u001B[1;32m   (...)\u001B[0m\n\u001B[0;32m    643\u001B[0m \n\u001B[0;32m    644\u001B[0m \u001B[38;5;124;03m\"\"\"\u001B[39;00m\n\u001B[0;32m    645\u001B[0m \u001B[38;5;28mself\u001B[39m\u001B[38;5;241m.\u001B[39mlogger\u001B[38;5;241m.\u001B[39mlog(\u001B[38;5;124m\"\u001B[39m\u001B[38;5;124mdrawing realizations\u001B[39m\u001B[38;5;124m\"\u001B[39m)\n\u001B[1;32m--> 646\u001B[0m \u001B[38;5;28;01mif\u001B[39;00m \u001B[38;5;28;43mself\u001B[39;49m\u001B[38;5;241;43m.\u001B[39;49m\u001B[43mpst\u001B[49m\u001B[38;5;241;43m.\u001B[39;49m\u001B[43mnpar_adj\u001B[49m \u001B[38;5;241m==\u001B[39m \u001B[38;5;241m0\u001B[39m:\n\u001B[0;32m    647\u001B[0m     \u001B[38;5;28mself\u001B[39m\u001B[38;5;241m.\u001B[39mlogger\u001B[38;5;241m.\u001B[39mwarn(\u001B[38;5;124m\"\u001B[39m\u001B[38;5;124mno adjustable parameters, nothing to draw...\u001B[39m\u001B[38;5;124m\"\u001B[39m)\n\u001B[0;32m    648\u001B[0m     \u001B[38;5;28;01mreturn\u001B[39;00m\n",
      "\u001B[1;31mAttributeError\u001B[0m: 'NoneType' object has no attribute 'npar_adj'"
     ]
    }
   ],
   "execution_count": 8
  },
  {
   "metadata": {
    "ExecuteTime": {
     "end_time": "2024-09-26T20:31:59.162203Z",
     "start_time": "2024-09-26T20:26:57.446061Z"
    }
   },
   "cell_type": "code",
   "source": "model.xsect(cells=[17280, 27230]).ani.show()",
   "id": "a401a477619a5d42",
   "outputs": [
    {
     "name": "stdout",
     "output_type": "stream",
     "text": [
      "reading kstpkper (9, 30)\r"
     ]
    }
   ],
   "execution_count": 2
  },
  {
   "metadata": {},
   "cell_type": "code",
   "source": [
    "ys = XSection(model=model, kstpkper=(9, 59), cells=69).xsect\n",
    "fig = f.Fig()\n",
    "fig.add_scattergl(y=ys[1][1:-2], x=[point[0] for point in ys[0]][1:-2])\n",
    "fig.show()"
   ],
   "id": "558370acda95d881",
   "outputs": [],
   "execution_count": null
  },
  {
   "metadata": {},
   "cell_type": "code",
   "source": "mf.InterpolatedSurface(model=model, kstpkper=(9, 59)).plot()",
   "id": "13b700e37ec4bcee",
   "outputs": [],
   "execution_count": null
  },
  {
   "metadata": {
    "ExecuteTime": {
     "end_time": "2024-09-26T21:16:11.942833Z",
     "start_time": "2024-09-26T21:15:59.018842Z"
    }
   },
   "cell_type": "code",
   "source": "model.surf.hds(kstpkper=(9,30)).plot()",
   "id": "1ce4edc78f44a0b6",
   "outputs": [],
   "execution_count": 8
  },
  {
   "metadata": {},
   "cell_type": "code",
   "source": [
    "hds = hp(model.model_output_folder_path / f\"{model.name}.hds\", vor=model.vor)\n",
    "lyr0 = hds.all_heads.loc[idxx[(9, 0), 0], 'elev'].to_list()\n",
    "lyr1 = hds.all_heads.loc[idxx[(9, 0), 1], 'elev'].to_list()\n",
    "lyr2 = hds.all_heads.loc[idxx[(9, 0), 2], 'elev'].to_list()\n",
    "heads = [lyr0, lyr1, lyr2]\n",
    "with open(Path(r\"C:\\Users\\lukem\\mf6\\simplemodel\\iheads.hds\"), 'wb') as file:\n",
    "    pickle.dump(heads, file=file)"
   ],
   "id": "b3512bb41cc231ac",
   "outputs": [],
   "execution_count": null
  },
  {
   "metadata": {},
   "cell_type": "markdown",
   "source": "",
   "id": "e7871cf3af4da6a6"
  },
  {
   "metadata": {},
   "cell_type": "code",
   "source": [
    "surf = S(vor=vor, model=model, kstpkper=(39, 0), layer=2)\n",
    "surf.plot()"
   ],
   "id": "78c571dc4b589623",
   "outputs": [],
   "execution_count": null
  },
  {
   "metadata": {},
   "cell_type": "code",
   "source": [
    "def table_for_buried_facility(area, btm, top, storage_coeff, elev_every=1):\n",
    "    tot_vol = area * (top-btm) * storage_coeff\n",
    "    elev = btm + elev_every\n",
    "    table = []\n",
    "    while elev <= top:\n",
    "        this_vol = area * (elev-btm) * storage_coeff\n",
    "        table.append([elev, this_vol])\n",
    "        elev = elev + elev_every\n",
    "    return table\n",
    "\n",
    "table_for_buried_facility(20, 0, 10, 0.1, 1)"
   ],
   "id": "9e1edead65f1e74d",
   "outputs": [],
   "execution_count": null
  },
  {
   "metadata": {},
   "cell_type": "code",
   "source": [
    "hds = hp(hds_path=model.model_output_folder_path.joinpath(f'{model.name}.hds'), vor=vor)\n",
    "layer_nums = vor.gdf_topbtm.columns[1:].to_list()\n",
    "hover = {layer: vor.gdf_topbtm.loc[:, layer].to_list() for layer in layer_nums}\n",
    "hds.plot_choropleth((39, 6), zoom=13, plot_mounding=True, custom_hover=hover, layer=0, zmax=5, zmin=0).show()"
   ],
   "id": "d292cb899f23fd20",
   "outputs": [],
   "execution_count": null
  },
  {
   "metadata": {},
   "cell_type": "code",
   "source": [
    "start_exponent = 0  # Starting exponent (10^1)\n",
    "end_exponent = 0.6    # Ending exponent (10^3)\n",
    "num_points = 5     # Number of points in the range\n",
    "\n",
    "# Generate the logarithmic range\n",
    "log_range = np.logspace(start_exponent, end_exponent, num=num_points)\n",
    "\n",
    "times = (pd.Series(log_range)-1).tolist()"
   ],
   "id": "79e9b9a1546e7418",
   "outputs": [],
   "execution_count": null
  },
  {
   "metadata": {},
   "cell_type": "code",
   "source": [
    "qs = [100 for q in range(3)]\n",
    "ks = [20, 200, 2000]\n",
    "bs = [50 for q in range(3)]\n",
    "Ss = [0.3 for q in range(3)]\n",
    "rs = [100 for q in range(3)]\n",
    "CJ().get_ds(ks=ks, bs=bs, Ss=Ss, rs=rs, times=times, qs=qs)"
   ],
   "id": "b808e0e7df1c42e",
   "outputs": [],
   "execution_count": null
  },
  {
   "metadata": {},
   "cell_type": "code",
   "source": "CJ().cooper_jacob_drawdown(q=400_000, S=0.2, t=20, r=100, k=200, b=20)",
   "id": "18509df3e2ada735",
   "outputs": [],
   "execution_count": null
  },
  {
   "cell_type": "code",
   "source": [
    "recharge = Path(r\"C:\\Users\\lukem\\Python\\MODFLOW\\LakePointe\\inputs\\shp\\recharge\\v2_with_fill\\LP_RechargeExJoined_ply_20250529.shp\")\n",
    "uid = 'UID'\n",
    "\n",
    "rch = Rch(model, vor, recharge, uid, rch_fields=slice('OCT_ftpd','Annual_ftp'), rch_fields_to_pers=[12 for x in range(33)])\n",
    "rch.nper = 125"
   ],
   "metadata": {
    "collapsed": false
   },
   "id": "f4934ee759edb3b9",
   "outputs": [],
   "execution_count": null
  },
  {
   "cell_type": "code",
   "source": [
    "\n",
    "# get bottom elevs\n",
    "strike = 30  # Strike given in degrees from north\n",
    "dip = 20  # Dip given in degrees from horizontal\n",
    "known_point = (50, 200, 0)  # Known point (x, y, elevation)\n",
    "pixel_size = 1  # Pixel size\n",
    "bottom_raster_path = Path.cwd().joinpath('sample_model_output', 'bottom_raster.tif')\n",
    "top_raster_path = Path.cwd().joinpath('sample_model_output', 'top_raster.tif')\n",
    "vor = Vor(tri)"
   ],
   "metadata": {
    "collapsed": false
   },
   "id": "ff2d63f276928085",
   "outputs": [],
   "execution_count": null
  },
  {
   "cell_type": "code",
   "source": [
    "fig = vor.plot_choropleth()\n",
    "fig.show()"
   ],
   "metadata": {
    "collapsed": false
   },
   "id": "7906062bb9e3eebc",
   "outputs": [],
   "execution_count": null
  },
  {
   "cell_type": "code",
   "source": [
    "\n",
    "\n",
    "bottom_elevs = vor.get_raster_from_strike_dip(strike, dip, known_point, pixel_size, bottom_raster_path)\n",
    "top_elevs = vor.get_raster_from_strike_dip(0, 0, (0,0,50), 1, top_raster_path)\n",
    "vor = Vor(tri, rasters=[bottom_raster_path, top_raster_path])\n",
    "nper = 31\n",
    "center_cells = [32, 33, 34, 35, 36, 37, 38, 39, 40, 41, 42, 43, 44, 45, 46, 47, 48, 49, 50, 51, 52, 53, 54, 55, 56,\n",
    "                57, 58, 59, 60, 61, 62, 63, 98, 123, 124, 163, 164, 165, 193, 194, 195, 196, 210, 211, 212, 213,\n",
    "                234, 235, 236, 314, 337, 374, 375, 388, 392]\n",
    "rch_trans = [np.random.random() + 4 for per in range(nper)]\n",
    "rch_dict = {}\n",
    "for per in range(nper):\n",
    "    cell_list = []\n",
    "    for cell in range(vor.ncpl):\n",
    "        if cell in center_cells:\n",
    "            cell_list.append([cell, rch_trans[per]])\n",
    "        else:\n",
    "            cell_list.append([cell, 0.01])\n",
    "\n",
    "    rch_dict[per] = cell_list\n",
    "model = SimpleModel(\n",
    "    vor,\n",
    "    k=5,\n",
    "    #bottom=bottom_elevs['elev'].to_list(),\n",
    "    #top=50,\n",
    "    nper=nper,\n",
    "    rch_dict=rch_dict\n",
    ")\n",
    "model.run_simulation()\n",
    "hds = hp(hds_path=model.model_output_folder_path.joinpath('mf6_model.hds'), vor=vor)\n",
    "hds.plot_choropleth((19, 0), zoom=19, plot_mounding=True).show()"
   ],
   "metadata": {
    "collapsed": false
   },
   "id": "8cad61b420365283",
   "outputs": [],
   "execution_count": null
  },
  {
   "cell_type": "code",
   "source": [
    "import plotly.graph_objs as go\n",
    "import rasterio\n",
    "from pathlib import Path\n",
    "import rioxarray, xarray\n",
    "\n",
    "raster_path = Path(r'C:\\Users\\lukem\\Python\\MODFLOW\\LakePointe\\inputs\\surfaces\\raster_surface\\finals')\n",
    "rast_dict = {}\n",
    "for file in Path.iterdir(raster_path):\n",
    "    if file.suffix == '.tif' or file.suffix == '.tiff':\n",
    "        raster = rioxarray.open_rasterio(file)\n",
    "        rast_dict[file.stem] = raster\n"
   ],
   "metadata": {
    "collapsed": false
   },
   "id": "405e254162165c5",
   "outputs": [],
   "execution_count": null
  },
  {
   "cell_type": "code",
   "source": [
    "import pandas as pd\n",
    "fig = go.Figure()\n",
    "for key in rast_dict.keys():\n",
    "    rast = rast_dict[key]\n",
    "    df_rast = pd.DataFrame(rast.values[0])\n",
    "    df_rast = df_rast[df_rast>0]\n",
    "    fig.add_surface(z=df_rast, x=rast.x, y=rast.y, name=key, showlegend=True, scene='scene')\n",
    "surface_scene = go.layout.Scene(zaxis_range=[0, 1000])\n",
    "fig.update_scenes(patch=surface_scene)"
   ],
   "metadata": {
    "collapsed": false
   },
   "id": "1d6c56ecf7351e4d",
   "outputs": [],
   "execution_count": null
  },
  {
   "cell_type": "code",
   "source": [
    "fig.show(renderer='browser')"
   ],
   "metadata": {
    "collapsed": false
   },
   "id": "532d34907cc24951",
   "outputs": [],
   "execution_count": null
  },
  {
   "cell_type": "code",
   "source": [],
   "metadata": {
    "collapsed": false
   },
   "id": "a32389b3535de1dc",
   "outputs": [],
   "execution_count": null
  }
 ],
 "metadata": {
  "kernelspec": {
   "display_name": "Python 3",
   "language": "python",
   "name": "python3"
  },
  "language_info": {
   "codemirror_mode": {
    "name": "ipython",
    "version": 2
   },
   "file_extension": ".py",
   "mimetype": "text/x-python",
   "name": "python",
   "nbconvert_exporter": "python",
   "pygments_lexer": "ipython2",
   "version": "2.7.6"
  }
 },
 "nbformat": 4,
 "nbformat_minor": 5
}
