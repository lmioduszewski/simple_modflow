{
 "cells": [
  {
   "cell_type": "code",
   "source": [
    "from pathlib import Path\n",
    "import flopy\n",
    "import pandas as pd\n",
    "from simple_modflow.modflow.mf6.voronoiplus import VoronoiGridPlus as Vor\n",
    "from simple_modflow.modflow.mf6.voronoiplus import TriangleGrid as Triangle\n",
    "from simple_modflow.modflow.mf6.boundaries import Boundaries\n",
    "import numpy as np\n",
    "from shapely import Polygon\n",
    "from simple_modflow.modflow.mf6.headsplus import HeadsPlus as hp\n",
    "import shapely as shp\n",
    "from simple_modflow.modflow.mf6 import mfsimbase as mf\n",
    "from simple_modflow.modflow.mf6.recharge import RechargeFromShp as Rch\n",
    "import itertools\n",
    "import pickle\n",
    "from simple_modflow.modflow.mf6.mfsimbase import SimulationBase\n",
    "from simple_modflow.modflow.calcs.cj_approximation import CooperJacob as CJ\n",
    "import figs as f\n",
    "from simple_modflow.modflow.utils.surfaces import InterpolatedSurface as S\n",
    "from pandas import IndexSlice as idxx\n",
    "\n",
    "model_path = Path(r\"C:\\Users\\lukem\\mf6\\LkPt_v6\\LkPt_v6.model\")\n",
    "vor_path = Path(r'C:\\Users\\lukem\\Python\\MODFLOW\\LakePointe\\new_vor_lakepointe.vor')\n",
    "with open(vor_path, 'rb') as file:\n",
    "    vor: Vor = pickle.load(file)\n",
    "with open(model_path, 'rb') as file:\n",
    "    model: SimulationBase = pickle.load(file)"
   ],
   "metadata": {
    "collapsed": false,
    "ExecuteTime": {
     "end_time": "2024-08-07T18:56:13.076650Z",
     "start_time": "2024-08-07T18:56:08.731417Z"
    }
   },
   "id": "13285569e1d018c6",
   "outputs": [
    {
     "name": "stderr",
     "output_type": "stream",
     "text": [
      "C:\\Users\\lukem\\AppData\\Local\\Programs\\Python\\Python312\\Lib\\site-packages\\reportlab\\lib\\rl_safe_eval.py:12: DeprecationWarning: ast.NameConstant is deprecated and will be removed in Python 3.14; use ast.Constant instead\n",
      "  haveNameConstant = hasattr(ast,'NameConstant')\n"
     ]
    }
   ],
   "execution_count": 1
  },
  {
   "metadata": {
    "ExecuteTime": {
     "end_time": "2024-08-07T18:56:18.590334Z",
     "start_time": "2024-08-07T18:56:14.001395Z"
    }
   },
   "cell_type": "code",
   "source": [
    "surf = S(vor=vor, model=model, kstpkper=(39, 0), layer=2)\n",
    "surf.plot()"
   ],
   "id": "78c571dc4b589623",
   "outputs": [],
   "execution_count": 2
  },
  {
   "metadata": {
    "ExecuteTime": {
     "end_time": "2024-08-05T02:50:10.950740Z",
     "start_time": "2024-08-05T02:50:06.096006Z"
    }
   },
   "cell_type": "code",
   "source": [
    "hds = hp(hds_path=model.model_output_folder_path.joinpath(f'{model.name}.hds'), vor=vor)\n",
    "layer_nums = vor.gdf_topbtm.columns[1:].to_list()\n",
    "hover = {layer: vor.gdf_topbtm.loc[:, layer].to_list() for layer in layer_nums}\n",
    "hds.plot_choropleth((39, 6), zoom=13, plot_mounding=True, custom_hover=hover, layer=0, zmax=5, zmin=0).show()"
   ],
   "id": "d292cb899f23fd20",
   "outputs": [],
   "execution_count": 8
  },
  {
   "metadata": {
    "ExecuteTime": {
     "end_time": "2024-07-20T08:45:04.377528Z",
     "start_time": "2024-07-20T08:45:04.372281Z"
    }
   },
   "cell_type": "code",
   "source": [
    "start_exponent = 0  # Starting exponent (10^1)\n",
    "end_exponent = 0.6    # Ending exponent (10^3)\n",
    "num_points = 5     # Number of points in the range\n",
    "\n",
    "# Generate the logarithmic range\n",
    "log_range = np.logspace(start_exponent, end_exponent, num=num_points)\n",
    "\n",
    "times = (pd.Series(log_range)-1).tolist()"
   ],
   "id": "79e9b9a1546e7418",
   "outputs": [],
   "execution_count": 2
  },
  {
   "metadata": {
    "ExecuteTime": {
     "end_time": "2024-07-20T08:45:05.534456Z",
     "start_time": "2024-07-20T08:45:05.529100Z"
    }
   },
   "cell_type": "code",
   "source": "times",
   "id": "b38d220c1da59952",
   "outputs": [
    {
     "data": {
      "text/plain": [
       "[0.0,\n",
       " 0.4125375446227544,\n",
       " 0.9952623149688795,\n",
       " 1.8183829312644537,\n",
       " 2.9810717055349722]"
      ]
     },
     "execution_count": 3,
     "metadata": {},
     "output_type": "execute_result"
    }
   ],
   "execution_count": 3
  },
  {
   "metadata": {
    "ExecuteTime": {
     "end_time": "2024-07-20T08:51:34.010827Z",
     "start_time": "2024-07-20T08:51:34.005571Z"
    }
   },
   "cell_type": "code",
   "source": [
    "qs = [100 for q in range(3)]\n",
    "ks = [20, 200, 2000]\n",
    "bs = [50 for q in range(3)]\n",
    "Ss = [0.3 for q in range(3)]\n",
    "rs = [100 for q in range(3)]\n",
    "CJ().get_ds(ks=ks, bs=bs, Ss=Ss, rs=rs, times=times, qs=qs)"
   ],
   "id": "b808e0e7df1c42e",
   "outputs": [
    {
     "data": {
      "text/plain": [
       "[[-inf,\n",
       "  -4.138601337179834,\n",
       "  -1.0316639161271406,\n",
       "  1.0945821026212361,\n",
       "  2.838541615544204],\n",
       " [-inf,\n",
       "  0.3984661330625654,\n",
       "  0.7091598751678346,\n",
       "  0.9217844770426724,\n",
       "  1.0961804283349692],\n",
       " [-inf,\n",
       "  0.12107923998431144,\n",
       "  0.15214861419483836,\n",
       "  0.17341107438232212,\n",
       "  0.19085066951155183]]"
      ]
     },
     "execution_count": 10,
     "metadata": {},
     "output_type": "execute_result"
    }
   ],
   "execution_count": 10
  },
  {
   "metadata": {
    "ExecuteTime": {
     "end_time": "2024-07-20T08:53:37.769684Z",
     "start_time": "2024-07-20T08:53:37.764701Z"
    }
   },
   "cell_type": "code",
   "source": "CJ().cooper_jacob_drawdown(q=400_000, S=0.2, t=20, r=100, k=200, b=20)",
   "id": "18509df3e2ada735",
   "outputs": [
    {
     "data": {
      "text/plain": [
       "82.46662452346483"
      ]
     },
     "execution_count": 22,
     "metadata": {},
     "output_type": "execute_result"
    }
   ],
   "execution_count": 22
  },
  {
   "metadata": {
    "ExecuteTime": {
     "end_time": "2024-07-20T08:09:26.064416Z",
     "start_time": "2024-07-20T08:09:26.058114Z"
    }
   },
   "cell_type": "code",
   "source": [
    "l = []\n",
    "for t in range(8):\n",
    "    l += [t]\n",
    "l"
   ],
   "id": "9b36e444a3d47a",
   "outputs": [
    {
     "data": {
      "text/plain": [
       "[0, 1, 2, 3, 4, 5, 6, 7]"
      ]
     },
     "execution_count": 6,
     "metadata": {},
     "output_type": "execute_result"
    }
   ],
   "execution_count": 6
  },
  {
   "cell_type": "code",
   "execution_count": null,
   "outputs": [],
   "source": [
    "recharge = Path(r\"C:\\Users\\lukem\\Python\\MODFLOW\\LakePointe\\inputs\\shp\\recharge\\v2_with_fill\\LP_RechargeExJoined_ply_20250529.shp\")\n",
    "uid = 'UID'\n",
    "\n",
    "rch = Rch(model, vor, recharge, uid, rch_fields=slice('OCT_ftpd','Annual_ftp'), rch_fields_to_pers=[12 for x in range(33)])\n",
    "rch.nper = 125"
   ],
   "metadata": {
    "collapsed": false
   },
   "id": "f4934ee759edb3b9"
  },
  {
   "cell_type": "code",
   "execution_count": null,
   "outputs": [],
   "source": [
    "rch.get_rch()[2]"
   ],
   "metadata": {
    "collapsed": false
   },
   "id": "b3b2ad3235bad3"
  },
  {
   "cell_type": "code",
   "execution_count": null,
   "outputs": [],
   "source": [
    "(\"\"\"Example simple model\"\"\"\n",
    "tri = Triangle(\n",
    "    model_ws=Path.cwd(),\n",
    "    angle=30,\n",
    "    #maximum_area=50\n",
    ")\n",
    "tri.add_rectangle(x_dist=500, y_dist=500, origin=(-200, -200))\n",
    "\n",
    "coords = ((-100., -100.), (-100., 150.), (150., 150.), (150., -100.), (-100., -100.))\n",
    "polygon = shp.Polygon(coords)\n",
    "tri.add_polygon(densify_poly(polygon, distance_between=1))\n",
    "tri.add_rectangle(max_area=10)\n",
    "# tri.add_polygon(densify_poly(polygon, distance_between=0.1).buffer(-2))\n",
    "tri.model_ws = Path.cwd().joinpath('sample_model_output')\n",
    "tri.build()\n",
    "vor = Vor(tri=tri)\n",
    "vor.plot_choropleth().show()"
   ],
   "metadata": {
    "collapsed": false
   },
   "id": "a5a314a657112b64"
  },
  {
   "cell_type": "code",
   "execution_count": null,
   "outputs": [],
   "source": [
    "\n",
    "# get bottom elevs\n",
    "strike = 30  # Strike given in degrees from north\n",
    "dip = 20  # Dip given in degrees from horizontal\n",
    "known_point = (50, 200, 0)  # Known point (x, y, elevation)\n",
    "pixel_size = 1  # Pixel size\n",
    "bottom_raster_path = Path.cwd().joinpath('sample_model_output', 'bottom_raster.tif')\n",
    "top_raster_path = Path.cwd().joinpath('sample_model_output', 'top_raster.tif')\n",
    "vor = Vor(tri)"
   ],
   "metadata": {
    "collapsed": false
   },
   "id": "ff2d63f276928085"
  },
  {
   "cell_type": "code",
   "execution_count": null,
   "outputs": [],
   "source": [
    "fig = vor.plot_choropleth()\n",
    "fig.show()"
   ],
   "metadata": {
    "collapsed": false
   },
   "id": "7906062bb9e3eebc"
  },
  {
   "cell_type": "code",
   "execution_count": null,
   "outputs": [],
   "source": [
    "\n",
    "\n",
    "bottom_elevs = vor.get_raster_from_strike_dip(strike, dip, known_point, pixel_size, bottom_raster_path)\n",
    "top_elevs = vor.get_raster_from_strike_dip(0, 0, (0,0,50), 1, top_raster_path)\n",
    "vor = Vor(tri, rasters=[bottom_raster_path, top_raster_path])\n",
    "nper = 31\n",
    "center_cells = [32, 33, 34, 35, 36, 37, 38, 39, 40, 41, 42, 43, 44, 45, 46, 47, 48, 49, 50, 51, 52, 53, 54, 55, 56,\n",
    "                57, 58, 59, 60, 61, 62, 63, 98, 123, 124, 163, 164, 165, 193, 194, 195, 196, 210, 211, 212, 213,\n",
    "                234, 235, 236, 314, 337, 374, 375, 388, 392]\n",
    "rch_trans = [np.random.random() + 4 for per in range(nper)]\n",
    "rch_dict = {}\n",
    "for per in range(nper):\n",
    "    cell_list = []\n",
    "    for cell in range(vor.ncpl):\n",
    "        if cell in center_cells:\n",
    "            cell_list.append([cell, rch_trans[per]])\n",
    "        else:\n",
    "            cell_list.append([cell, 0.01])\n",
    "\n",
    "    rch_dict[per] = cell_list\n",
    "model = SimpleModel(\n",
    "    vor,\n",
    "    k=5,\n",
    "    #bottom=bottom_elevs['elev'].to_list(),\n",
    "    #top=50,\n",
    "    nper=nper,\n",
    "    rch_dict=rch_dict\n",
    ")\n",
    "model.run_simulation()\n",
    "hds = hp(hds_path=model.model_output_folder_path.joinpath('mf6_model.hds'), vor=vor)\n",
    "hds.plot_choropleth((19, 0), zoom=19, plot_mounding=True).show()"
   ],
   "metadata": {
    "collapsed": false
   },
   "id": "8cad61b420365283"
  },
  {
   "cell_type": "code",
   "execution_count": null,
   "outputs": [],
   "source": [
    "import plotly.graph_objs as go\n",
    "import rasterio\n",
    "from pathlib import Path\n",
    "import rioxarray, xarray\n",
    "\n",
    "raster_path = Path(r'C:\\Users\\lukem\\Python\\MODFLOW\\LakePointe\\inputs\\surfaces\\raster_surface\\finals')\n",
    "rast_dict = {}\n",
    "for file in Path.iterdir(raster_path):\n",
    "    if file.suffix == '.tif' or file.suffix == '.tiff':\n",
    "        raster = rioxarray.open_rasterio(file)\n",
    "        rast_dict[file.stem] = raster\n"
   ],
   "metadata": {
    "collapsed": false
   },
   "id": "405e254162165c5"
  },
  {
   "cell_type": "code",
   "execution_count": null,
   "outputs": [],
   "source": [
    "import pandas as pd\n",
    "fig = go.Figure()\n",
    "for key in rast_dict.keys():\n",
    "    rast = rast_dict[key]\n",
    "    df_rast = pd.DataFrame(rast.values[0])\n",
    "    df_rast = df_rast[df_rast>0]\n",
    "    fig.add_surface(z=df_rast, x=rast.x, y=rast.y, name=key, showlegend=True, scene='scene')\n",
    "surface_scene = go.layout.Scene(zaxis_range=[0, 1000])\n",
    "fig.update_scenes(patch=surface_scene)"
   ],
   "metadata": {
    "collapsed": false
   },
   "id": "1d6c56ecf7351e4d"
  },
  {
   "cell_type": "code",
   "execution_count": null,
   "outputs": [],
   "source": [
    "fig.show(renderer='browser')"
   ],
   "metadata": {
    "collapsed": false
   },
   "id": "532d34907cc24951"
  },
  {
   "cell_type": "code",
   "execution_count": null,
   "outputs": [],
   "source": [],
   "metadata": {
    "collapsed": false
   },
   "id": "a32389b3535de1dc"
  }
 ],
 "metadata": {
  "kernelspec": {
   "display_name": "Python 3",
   "language": "python",
   "name": "python3"
  },
  "language_info": {
   "codemirror_mode": {
    "name": "ipython",
    "version": 2
   },
   "file_extension": ".py",
   "mimetype": "text/x-python",
   "name": "python",
   "nbconvert_exporter": "python",
   "pygments_lexer": "ipython2",
   "version": "2.7.6"
  }
 },
 "nbformat": 4,
 "nbformat_minor": 5
}
